{
 "cells": [
  {
   "cell_type": "code",
   "execution_count": 11,
   "id": "1477bd5c-6c3a-4b48-ba1f-63e2a401cc24",
   "metadata": {},
   "outputs": [],
   "source": [
    "import pandas as pd\n",
    "import numpy as np \n",
    "from sklearn import linear_model"
   ]
  },
  {
   "cell_type": "code",
   "execution_count": 12,
   "id": "0822819b-7753-4d18-b8b1-f0ab7bbf1fa3",
   "metadata": {},
   "outputs": [],
   "source": [
    "# Importing the energy data \n",
    "df_final = pd.read_csv('../Data/df_final.csv')"
   ]
  },
  {
   "cell_type": "code",
   "execution_count": null,
   "id": "794d68f7-40dd-4517-95ea-42ced9ab106c",
   "metadata": {},
   "outputs": [],
   "source": []
  }
 ],
 "metadata": {
  "kernelspec": {
   "display_name": "Python 3 (ipykernel)",
   "language": "python",
   "name": "python3"
  },
  "language_info": {
   "codemirror_mode": {
    "name": "ipython",
    "version": 3
   },
   "file_extension": ".py",
   "mimetype": "text/x-python",
   "name": "python",
   "nbconvert_exporter": "python",
   "pygments_lexer": "ipython3",
   "version": "3.10.13"
  }
 },
 "nbformat": 4,
 "nbformat_minor": 5
}
