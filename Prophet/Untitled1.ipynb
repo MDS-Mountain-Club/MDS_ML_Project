{
 "cells": [
  {
   "cell_type": "code",
   "execution_count": 1,
   "id": "91fd91c7",
   "metadata": {},
   "outputs": [],
   "source": [
    "import pandas as pd\n",
    "from prophet import Prophet\n",
    "import warnings\n",
    "warnings.filterwarnings(\"ignore\")\n",
    "import numpy as np\n",
    "from sklearn.model_selection import train_test_split\n",
    "from sklearn.preprocessing import StandardScaler\n",
    "from sklearn.neighbors import KNeighborsRegressor\n",
    "from sklearn.metrics import mean_absolute_error, mean_squared_error"
   ]
  },
  {
   "cell_type": "code",
   "execution_count": 2,
   "id": "383e3736",
   "metadata": {},
   "outputs": [],
   "source": [
    "df_final = pd.read_csv('../Data/df_final.csv', index_col='time')"
   ]
  },
  {
   "cell_type": "code",
   "execution_count": 3,
   "id": "21a3cd48",
   "metadata": {},
   "outputs": [],
   "source": [
    "X = df_final.drop(columns=['generation solar','generation wind onshore'])\n",
    "y_solar = df_final['generation solar']\n",
    "y_wind = df_final['generation wind onshore']"
   ]
  },
  {
   "cell_type": "code",
   "execution_count": 4,
   "id": "d0a65771",
   "metadata": {},
   "outputs": [],
   "source": [
    "def split_by_date(X,train_end_date):\n",
    "    if not isinstance(train_end_date, pd.Timestamp):\n",
    "        train_end_date = pd.Timestamp(train_end_date)\n",
    "\n",
    "    # Convert index of X and y to Timestamp objects if they are strings\n",
    "    if isinstance(X.index[0], str):\n",
    "        X.index = pd.to_datetime(X.index)\n",
    "        \n",
    "    X_train = X[X.index <= train_end_date]\n",
    "    X_test = X[X.index > train_end_date]\n",
    "    \n",
    "    return X_train, X_test\n",
    "\n",
    "train_end_date = pd.to_datetime('2017-12-31 23:00:00+00:00')\n",
    "X_train, X_test = split_by_date(X,train_end_date)\n"
   ]
  },
  {
   "cell_type": "code",
   "execution_count": 5,
   "id": "b84e1b25",
   "metadata": {},
   "outputs": [],
   "source": [
    "y_solar_train, y_solar_test = split_by_date(y_solar, train_end_date)\n",
    "y_wind_train, y_wind_test = split_by_date(y_wind, train_end_date)"
   ]
  },
  {
   "cell_type": "code",
   "execution_count": 6,
   "id": "dfaf1fb6",
   "metadata": {},
   "outputs": [],
   "source": [
    "scaler = StandardScaler()\n",
    "X_train_scaled = scaler.fit_transform(X_train)\n",
    "X_test_scaled = scaler.transform(X_test)"
   ]
  },
  {
   "cell_type": "code",
   "execution_count": null,
   "id": "7283b677",
   "metadata": {},
   "outputs": [],
   "source": [
    "m = Prophet()\n",
    "m.fit(df)"
   ]
  }
 ],
 "metadata": {
  "kernelspec": {
   "display_name": "Python 3 (ipykernel)",
   "language": "python",
   "name": "python3"
  },
  "language_info": {
   "codemirror_mode": {
    "name": "ipython",
    "version": 3
   },
   "file_extension": ".py",
   "mimetype": "text/x-python",
   "name": "python",
   "nbconvert_exporter": "python",
   "pygments_lexer": "ipython3",
   "version": "3.9.13"
  }
 },
 "nbformat": 4,
 "nbformat_minor": 5
}
