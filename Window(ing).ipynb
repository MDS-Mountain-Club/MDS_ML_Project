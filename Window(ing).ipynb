{
 "cells": [
  {
   "cell_type": "code",
   "execution_count": 49,
   "id": "e05f4406",
   "metadata": {},
   "outputs": [],
   "source": [
    "import pandas as pd\n",
    "import numpy as np"
   ]
  },
  {
   "cell_type": "code",
   "execution_count": 50,
   "id": "3617b136",
   "metadata": {},
   "outputs": [],
   "source": [
    "df = pd.read_csv('Data/df_clean.csv',index_col=\"time\")\n",
    "\n",
    "y_price = df['price actual']\n",
    "\n",
    "# Split the data based on the specific date\n",
    "def split_by_date(X,train_end_date):\n",
    "    if not isinstance(train_end_date, pd.Timestamp):\n",
    "        train_end_date = pd.Timestamp(train_end_date)\n",
    "\n",
    "    # Convert index of X and y to Timestamp objects if they are strings\n",
    "    if isinstance(X.index[0], str):\n",
    "        X.index = pd.to_datetime(X.index)\n",
    "        \n",
    "    X_train = X[X.index <= train_end_date]\n",
    "    X_test = X[X.index > train_end_date]\n",
    "    \n",
    "    return X_train, X_test\n",
    "\n",
    "train_end_date = pd.to_datetime('2017-12-31 23:00:00+00:00')\n",
    "\n",
    "# X_train, X_test also contains y variable (price actual)\n",
    "X_train, X_test = split_by_date(df,train_end_date)\n",
    "y_price_train, y_price_test = split_by_date(y_price, train_end_date)"
   ]
  },
  {
   "cell_type": "code",
   "execution_count": 84,
   "id": "eb6e2a64",
   "metadata": {},
   "outputs": [],
   "source": [
    "def split_array(X_arr, y_arr, n_hours):\n",
    "    X, y = list(), list()\n",
    "    for window_start in range(len(X_arr)):\n",
    "        past_end = window_start + n_hours\n",
    "        if past_end + 1 > len(X_arr):\n",
    "            break\n",
    "        past, future = X_arr[window_start:past_end], y_arr[past_end]\n",
    "        X.append(past)\n",
    "        y.append(future)\n",
    "    return np.array(X), np.array(y)\n",
    "        \n",
    "        "
   ]
  },
  {
   "cell_type": "code",
   "execution_count": 86,
   "id": "2c172e11",
   "metadata": {},
   "outputs": [],
   "source": [
    "n_hours = 3 # Predict the next 3 hours \n",
    "X_train_arr, X_test_arr = X_train.values, X_test.values \n",
    "y_price_train_arr, y_price_test_arr = y_price_train.values, y_price_test.values\n"
   ]
  },
  {
   "cell_type": "code",
   "execution_count": 87,
   "id": "92c6bbed",
   "metadata": {},
   "outputs": [],
   "source": [
    "X_train_split, y_train_split =split_array(X_train_arr, y_price_train_arr,n_hours)\n",
    "test_train24_combine_X = np.concatenate([X_train_arr[-n_past:],X_test_arr])\n",
    "test_train24_combine_y = np.concatenate([y_price_train_arr[-n_past:],y_price_test_arr])\n",
    "X_test_split, y_test_split = split_array(test_train24_combine_X, test_train24_combine_y ,n_hours)"
   ]
  },
  {
   "cell_type": "code",
   "execution_count": 94,
   "id": "ea2fd033",
   "metadata": {},
   "outputs": [
    {
     "data": {
      "text/plain": [
       "time\n",
       "2014-12-31 23:00:00+00:00    65.41\n",
       "2015-01-01 00:00:00+00:00    64.92\n",
       "2015-01-01 01:00:00+00:00    64.48\n",
       "2015-01-01 02:00:00+00:00    59.32\n",
       "2015-01-01 03:00:00+00:00    56.04\n",
       "                             ...  \n",
       "2017-12-31 19:00:00+00:00    39.54\n",
       "2017-12-31 20:00:00+00:00    32.90\n",
       "2017-12-31 21:00:00+00:00    23.85\n",
       "2017-12-31 22:00:00+00:00    23.95\n",
       "2017-12-31 23:00:00+00:00    20.76\n",
       "Name: price actual, Length: 26305, dtype: float64"
      ]
     },
     "execution_count": 94,
     "metadata": {},
     "output_type": "execute_result"
    }
   ],
   "source": [
    "X_train['price actual']"
   ]
  },
  {
   "cell_type": "code",
   "execution_count": 90,
   "id": "9d3879ff",
   "metadata": {},
   "outputs": [
    {
     "data": {
      "text/plain": [
       "array([65.41, 64.92, 64.48])"
      ]
     },
     "execution_count": 90,
     "metadata": {},
     "output_type": "execute_result"
    }
   ],
   "source": [
    "X_train_split[0][:,19] # Three hours previous sequence"
   ]
  },
  {
   "cell_type": "code",
   "execution_count": 89,
   "id": "747c76a7",
   "metadata": {},
   "outputs": [
    {
     "data": {
      "text/plain": [
       "array([59.32, 56.04, 53.63, ..., 23.85, 23.95, 20.76])"
      ]
     },
     "execution_count": 89,
     "metadata": {},
     "output_type": "execute_result"
    }
   ],
   "source": [
    "y_train_split # You can see that the first value is the next three hour value "
   ]
  }
 ],
 "metadata": {
  "kernelspec": {
   "display_name": "Python 3",
   "language": "python",
   "name": "python3"
  },
  "language_info": {
   "codemirror_mode": {
    "name": "ipython",
    "version": 3
   },
   "file_extension": ".py",
   "mimetype": "text/x-python",
   "name": "python",
   "nbconvert_exporter": "python",
   "pygments_lexer": "ipython3",
   "version": "3.8.8"
  }
 },
 "nbformat": 4,
 "nbformat_minor": 5
}
