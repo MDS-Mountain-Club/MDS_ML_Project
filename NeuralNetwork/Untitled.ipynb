{
 "cells": [
  {
   "cell_type": "code",
   "execution_count": 1,
   "id": "a1e761a7",
   "metadata": {},
   "outputs": [],
   "source": [
    "import pandas as pd \n",
    "import numpy as np \n",
    "import matplotlib.pyplot as plt \n",
    "import warnings \n",
    "from sklearn.preprocessing import StandardScaler\n",
    "from keras.layers import Dense, SimpleRNN\n",
    "from sklearn.model_selection import KFold, GridSearchCV\n",
    "from keras.wrappers.scikit_learn import KerasRegressor\n",
    "from sklearn.model_selection import RandomizedSearchCV\n",
    "from keras.models import Sequential\n",
    "from keras.callbacks import EarlyStopping\n",
    "import tensorflow as tf\n",
    "\n",
    "df = pd.read_csv('../Data/df_clean.csv',index_col=\"time\")"
   ]
  },
  {
   "cell_type": "code",
   "execution_count": 2,
   "id": "b426a0ef",
   "metadata": {},
   "outputs": [],
   "source": [
    "# Our dependant variables are two variables (generation solar, generation wind onshore). \n",
    "# But here, we are just predicting \"generation solar\"\n",
    "X = df.drop(columns=['generation solar','generation wind onshore'])\n",
    "y_solar = df['generation solar']"
   ]
  },
  {
   "cell_type": "code",
   "execution_count": 3,
   "id": "2d19ec10",
   "metadata": {},
   "outputs": [],
   "source": [
    "# Split the data into train and test based on specific time '2017-12-31 23:00:00+00:00'\n",
    "def split_by_date(X,train_end_date):\n",
    "    if not isinstance(train_end_date, pd.Timestamp):\n",
    "        train_end_date = pd.Timestamp(train_end_date)\n",
    "\n",
    "    # Convert index of X and y to Timestamp objects if they are strings\n",
    "    if isinstance(X.index[0], str):\n",
    "        X.index = pd.to_datetime(X.index)\n",
    "        \n",
    "    X_train = X[X.index <= train_end_date]\n",
    "    X_test = X[X.index > train_end_date]\n",
    "    \n",
    "    return X_train, X_test\n",
    "\n",
    "train_end_date = pd.to_datetime('2017-12-31 23:00:00+00:00')\n",
    "X_train, X_test = split_by_date(X,train_end_date)\n",
    "y_solar_train, y_solar_test = split_by_date(y_solar, train_end_date)"
   ]
  },
  {
   "cell_type": "code",
   "execution_count": 12,
   "id": "bfeee62d",
   "metadata": {},
   "outputs": [
    {
     "data": {
      "image/png": "[encoded data removed]",
      "text/plain": [
       "<Figure size 432x288 with 1 Axes>"
      ]
     },
     "metadata": {
      "needs_background": "light"
     },
     "output_type": "display_data"
    }
   ],
   "source": [
    "plt.hist(y_solar, bins=100, edgecolor='black')  # Adjust the number of bins as needed\n",
    "plt.title('Distribution of Variable')\n",
    "plt.xlabel('Value')\n",
    "plt.ylabel('Frequency')\n",
    "plt.grid(True)\n",
    "plt.show()"
   ]
  },
  {
   "cell_type": "code",
   "execution_count": 4,
   "id": "78330969",
   "metadata": {},
   "outputs": [],
   "source": [
    "scaler_x = StandardScaler()\n",
    "X_train_scaled = scaler_x.fit_transform(X_train)\n",
    "X_test_scaled = scaler_x.transform(X_test)"
   ]
  },
  {
   "cell_type": "code",
   "execution_count": 5,
   "id": "a51dd5a2",
   "metadata": {},
   "outputs": [],
   "source": [
    "y_solar_train_values = y_solar_train.values\n",
    "y_solar_test_values = y_solar_test.values"
   ]
  },
  {
   "cell_type": "code",
   "execution_count": 6,
   "id": "b0817719",
   "metadata": {},
   "outputs": [],
   "source": [
    "def split_array(X_arr, y_arr, n_past, n_future):\n",
    "    X, y = list(), list()\n",
    "    for window_start in range(len(X_arr)):\n",
    "        past_end = window_start + n_past\n",
    "        future_end = past_end + n_future\n",
    "        if future_end > len(X_arr):\n",
    "            break\n",
    "        past, future = X_arr[window_start:past_end], y_arr[past_end:future_end]\n",
    "        X.append(past)\n",
    "        y.append(future)\n",
    "    return np.array(X), np.array(y)\n",
    "        \n",
    "        "
   ]
  },
  {
   "cell_type": "code",
   "execution_count": 8,
   "id": "6b7b3323",
   "metadata": {},
   "outputs": [],
   "source": [
    "n_past = 24\n",
    "n_future = 1\n",
    "X_train_split, y_train_split =split_array(X_train_scaled, y_solar_train_values,n_past,n_future)\n",
    "test_train24_combine_X = np.concatenate([X_train_scaled[-n_past:],X_test_scaled])\n",
    "test_train24_combine_y = np.concatenate([y_solar_train_values[-n_past:],y_solar_test_values])\n",
    "X_test_split, y_test_split = split_array(test_train24_combine_X, test_train24_combine_y , n_past,n_future)"
   ]
  },
  {
   "cell_type": "code",
   "execution_count": 9,
   "id": "bbb14445",
   "metadata": {},
   "outputs": [],
   "source": [
    "def build_rnn(n_neurons):\n",
    "    model = Sequential()\n",
    "    model.add(SimpleRNN(units=n_neurons, activation='tanh', input_shape=(n_past, n_features)))\n",
    "    model.add(Dense(1, activation='tanh'))\n",
    "    model.compile(loss='mse',optimizer=tf.keras.optimizers.RMSprop(0.001), metrics=['mse'])\n",
    "    return model\n"
   ]
  },
  {
   "cell_type": "code",
   "execution_count": 10,
   "id": "a7a5bf6c",
   "metadata": {},
   "outputs": [
    {
     "name": "stderr",
     "output_type": "stream",
     "text": [
      "<ipython-input-10-cceb030bb8ae>:5: DeprecationWarning: KerasRegressor is deprecated, use Sci-Keras (https://github.com/adriangb/scikeras) instead.\n",
      "  model_candi = KerasRegressor(build_fn = build_rnn)\n"
     ]
    },
    {
     "name": "stdout",
     "output_type": "stream",
     "text": [
      "657/657 [==============================] - 7s 8ms/step - loss: 4830794.0000 - mse: 4830794.0000\n",
      "165/165 [==============================] - 1s 4ms/step - loss: 5455231.5000 - mse: 5455231.5000\n",
      "658/658 [==============================] - 8s 10ms/step - loss: 5166559.5000 - mse: 5166559.5000\n",
      "165/165 [==============================] - 1s 4ms/step - loss: 4109213.5000 - mse: 4109213.5000\n",
      "658/658 [==============================] - 8s 9ms/step - loss: 4764206.0000 - mse: 4764206.0000\n",
      "165/165 [==============================] - 1s 4ms/step - loss: 5719128.0000 - mse: 5719128.0000\n",
      "658/658 [==============================] - 8s 9ms/step - loss: 5218315.0000 - mse: 5218315.0000\n",
      "165/165 [==============================] - 1s 4ms/step - loss: 3901879.2500 - mse: 3901879.2500\n",
      "658/658 [==============================] - 8s 10ms/step - loss: 4795406.5000 - mse: 4795406.5000\n",
      "165/165 [==============================] - 1s 4ms/step - loss: 5593567.0000 - mse: 5593567.0000\n",
      "657/657 [==============================] - 7s 8ms/step - loss: 4830641.5000 - mse: 4830641.5000\n",
      "165/165 [==============================] - 1s 4ms/step - loss: 5455200.5000 - mse: 5455200.5000\n",
      "658/658 [==============================] - 8s 10ms/step - loss: 5166440.0000 - mse: 5166440.0000\n",
      "165/165 [==============================] - 1s 4ms/step - loss: 4108861.2500 - mse: 4108861.2500\n",
      "658/658 [==============================] - 8s 9ms/step - loss: 4764034.5000 - mse: 4764034.5000\n",
      "165/165 [==============================] - 1s 4ms/step - loss: 5719082.0000 - mse: 5719082.0000\n",
      "658/658 [==============================] - 9s 9ms/step - loss: 5218216.5000 - mse: 5218216.5000\n",
      "165/165 [==============================] - 1s 4ms/step - loss: 3901781.0000 - mse: 3901781.0000\n",
      "658/658 [==============================] - 8s 10ms/step - loss: 4795225.5000 - mse: 4795225.5000\n",
      "165/165 [==============================] - 1s 4ms/step - loss: 5594047.5000 - mse: 5594047.5000\n",
      "657/657 [==============================] - 7s 8ms/step - loss: 4830618.5000 - mse: 4830618.5000\n",
      "165/165 [==============================] - 1s 4ms/step - loss: 5455469.0000 - mse: 5455469.0000\n",
      "658/658 [==============================] - 8s 9ms/step - loss: 5166398.0000 - mse: 5166398.0000\n",
      "165/165 [==============================] - 1s 5ms/step - loss: 4108532.2500 - mse: 4108532.2500\n",
      "658/658 [==============================] - 8s 9ms/step - loss: 4764038.5000 - mse: 4764038.5000\n",
      "165/165 [==============================] - 1s 4ms/step - loss: 5719405.5000 - mse: 5719405.5000\n",
      "658/658 [==============================] - 9s 9ms/step - loss: 5218083.0000 - mse: 5218083.0000\n",
      "165/165 [==============================] - 1s 5ms/step - loss: 3901816.0000 - mse: 3901816.0000\n",
      "658/658 [==============================] - 8s 9ms/step - loss: 4795173.0000 - mse: 4795173.0000\n",
      "165/165 [==============================] - 1s 5ms/step - loss: 5594654.5000 - mse: 5594654.5000\n",
      "822/822 [==============================] - 10s 9ms/step - loss: 4954815.0000 - mse: 4954815.0000\n"
     ]
    }
   ],
   "source": [
    "\n",
    "n_features = X_train.shape[1]\n",
    "n_neurons = [10, 20, 30]\n",
    "param_grid = dict(n_neurons=n_neurons)\n",
    "\n",
    "model_candi = KerasRegressor(build_fn = build_rnn)\n",
    "grid_rnn = GridSearchCV(model_candi, param_grid, cv=5).fit(X_train_split, y_train_split)\n"
   ]
  },
  {
   "cell_type": "code",
   "execution_count": 77,
   "id": "c3d0f517",
   "metadata": {},
   "outputs": [],
   "source": [
    "best_rnn = grid_rnn.best_estimator_"
   ]
  },
  {
   "cell_type": "code",
   "execution_count": 78,
   "id": "a3d92d79",
   "metadata": {},
   "outputs": [],
   "source": [
    "es = EarlyStopping(monitor='val_loss', mode='min', patience=5)\n",
    "history_rnn = best_rnn.fit(X_train_split, y_train_split, epochs=50, batch_size=20, validation_split=0.2, callbacks=[es],\n",
    "                            verbose=0)"
   ]
  },
  {
   "cell_type": "code",
   "execution_count": 79,
   "id": "3d224a3e",
   "metadata": {},
   "outputs": [
    {
     "data": {
      "text/plain": [
       "<matplotlib.legend.Legend at 0x1f475c78f70>"
      ]
     },
     "execution_count": 79,
     "metadata": {},
     "output_type": "execute_result"
    },
    {
     "data": {
      "image/png": "[encoded data removed]",
      "text/plain": [
       "<Figure size 432x288 with 1 Axes>"
      ]
     },
     "metadata": {
      "needs_background": "light"
     },
     "output_type": "display_data"
    }
   ],
   "source": [
    "train_mse = history_rnn.history['mse']\n",
    "valid_mse = history_rnn.history['val_mse']\n",
    "\n",
    "plt.plot(train_mse, label='train mse')\n",
    "plt.plot(valid_mse, label='validation mse')\n",
    "plt.ylabel('mse')\n",
    "plt.xlabel('epoch')\n",
    "plt.legend(loc='upper center', bbox_to_anchor=(0.5,-0.15), fancybox=True, shadow=False, ncol=2)"
   ]
  },
  {
   "cell_type": "code",
   "execution_count": 51,
   "id": "7613e173",
   "metadata": {},
   "outputs": [],
   "source": [
    "prediction = grid_rnn.predict(X_test_split)"
   ]
  },
  {
   "cell_type": "code",
   "execution_count": 69,
   "id": "0571b436",
   "metadata": {},
   "outputs": [
    {
     "data": {
      "text/plain": [
       "4630906.0"
      ]
     },
     "execution_count": 69,
     "metadata": {},
     "output_type": "execute_result"
    }
   ],
   "source": [
    "sum((prediction - y_test_split.reshape(-1))**2) // len(y_test_split)"
   ]
  },
  {
   "cell_type": "code",
   "execution_count": 53,
   "id": "822191a7",
   "metadata": {},
   "outputs": [
    {
     "data": {
      "text/plain": [
       "array([0.99996275, 0.9997198 , 0.99975914, ..., 0.999989  , 0.9999891 ,\n",
       "       0.99998826], dtype=float32)"
      ]
     },
     "execution_count": 53,
     "metadata": {},
     "output_type": "execute_result"
    }
   ],
   "source": [
    "prediction"
   ]
  }
 ],
 "metadata": {
  "kernelspec": {
   "display_name": "Python 3",
   "language": "python",
   "name": "python3"
  },
  "language_info": {
   "codemirror_mode": {
    "name": "ipython",
    "version": 3
   },
   "file_extension": ".py",
   "mimetype": "text/x-python",
   "name": "python",
   "nbconvert_exporter": "python",
   "pygments_lexer": "ipython3",
   "version": "3.8.8"
  }
 },
 "nbformat": 4,
 "nbformat_minor": 5
}
