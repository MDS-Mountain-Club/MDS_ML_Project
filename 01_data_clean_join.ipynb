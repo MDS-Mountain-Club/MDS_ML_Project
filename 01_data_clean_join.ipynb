{
 "cells": [
  {
   "cell_type": "code",
   "execution_count": 1,
   "id": "29572624",
   "metadata": {},
   "outputs": [],
   "source": [
    "import warnings\n",
    "import numpy as np \n",
    "# Ignore all warnings\n",
    "warnings.filterwarnings(\"ignore\")"
   ]
  },
  {
   "cell_type": "code",
   "execution_count": 2,
   "id": "e5dd1618",
   "metadata": {},
   "outputs": [],
   "source": [
    "import pandas as pd \n",
    "import matplotlib.pyplot as plt "
   ]
  },
  {
   "cell_type": "code",
   "execution_count": 3,
   "id": "597d531b",
   "metadata": {},
   "outputs": [],
   "source": [
    "# Importing the energy data \n",
    "df_energy = pd.read_csv('Data/energy_dataset.csv',parse_dates=['time'])"
   ]
  },
  {
   "cell_type": "code",
   "execution_count": 4,
   "id": "01952119",
   "metadata": {},
   "outputs": [
    {
     "data": {
      "text/html": [
       "<div>\n",
       "<style scoped>\n",
       "    .dataframe tbody tr th:only-of-type {\n",
       "        vertical-align: middle;\n",
       "    }\n",
       "\n",
       "    .dataframe tbody tr th {\n",
       "        vertical-align: top;\n",
       "    }\n",
       "\n",
       "    .dataframe thead th {\n",
       "        text-align: right;\n",
       "    }\n",
       "</style>\n",
       "<table border=\"1\" class=\"dataframe\">\n",
       "  <thead>\n",
       "    <tr style=\"text-align: right;\">\n",
       "      <th></th>\n",
       "      <th>generation biomass</th>\n",
       "      <th>generation fossil brown coal/lignite</th>\n",
       "      <th>generation fossil coal-derived gas</th>\n",
       "      <th>generation fossil gas</th>\n",
       "      <th>generation fossil hard coal</th>\n",
       "      <th>generation fossil oil</th>\n",
       "      <th>generation fossil oil shale</th>\n",
       "      <th>generation fossil peat</th>\n",
       "      <th>generation geothermal</th>\n",
       "      <th>generation hydro pumped storage aggregated</th>\n",
       "      <th>generation hydro pumped storage consumption</th>\n",
       "      <th>generation hydro run-of-river and poundage</th>\n",
       "      <th>generation hydro water reservoir</th>\n",
       "      <th>generation marine</th>\n",
       "      <th>generation nuclear</th>\n",
       "      <th>generation other</th>\n",
       "      <th>generation other renewable</th>\n",
       "      <th>generation solar</th>\n",
       "      <th>generation waste</th>\n",
       "      <th>generation wind offshore</th>\n",
       "      <th>generation wind onshore</th>\n",
       "      <th>forecast solar day ahead</th>\n",
       "      <th>forecast wind offshore eday ahead</th>\n",
       "      <th>forecast wind onshore day ahead</th>\n",
       "      <th>total load forecast</th>\n",
       "      <th>total load actual</th>\n",
       "      <th>price day ahead</th>\n",
       "      <th>price actual</th>\n",
       "    </tr>\n",
       "  </thead>\n",
       "  <tbody>\n",
       "    <tr>\n",
       "      <th>count</th>\n",
       "      <td>35045.000000</td>\n",
       "      <td>35046.000000</td>\n",
       "      <td>35046.0</td>\n",
       "      <td>35046.000000</td>\n",
       "      <td>35046.000000</td>\n",
       "      <td>35045.000000</td>\n",
       "      <td>35046.0</td>\n",
       "      <td>35046.0</td>\n",
       "      <td>35046.0</td>\n",
       "      <td>0.0</td>\n",
       "      <td>35045.000000</td>\n",
       "      <td>35045.000000</td>\n",
       "      <td>35046.000000</td>\n",
       "      <td>35045.0</td>\n",
       "      <td>35047.000000</td>\n",
       "      <td>35046.000000</td>\n",
       "      <td>35046.000000</td>\n",
       "      <td>35046.000000</td>\n",
       "      <td>35045.000000</td>\n",
       "      <td>35046.0</td>\n",
       "      <td>35046.000000</td>\n",
       "      <td>35064.000000</td>\n",
       "      <td>0.0</td>\n",
       "      <td>35064.000000</td>\n",
       "      <td>35064.000000</td>\n",
       "      <td>35028.000000</td>\n",
       "      <td>35064.000000</td>\n",
       "      <td>35064.000000</td>\n",
       "    </tr>\n",
       "    <tr>\n",
       "      <th>mean</th>\n",
       "      <td>383.513540</td>\n",
       "      <td>448.059208</td>\n",
       "      <td>0.0</td>\n",
       "      <td>5622.737488</td>\n",
       "      <td>4256.065742</td>\n",
       "      <td>298.319789</td>\n",
       "      <td>0.0</td>\n",
       "      <td>0.0</td>\n",
       "      <td>0.0</td>\n",
       "      <td>NaN</td>\n",
       "      <td>475.577343</td>\n",
       "      <td>972.116108</td>\n",
       "      <td>2605.114735</td>\n",
       "      <td>0.0</td>\n",
       "      <td>6263.907039</td>\n",
       "      <td>60.228585</td>\n",
       "      <td>85.639702</td>\n",
       "      <td>1432.665925</td>\n",
       "      <td>269.452133</td>\n",
       "      <td>0.0</td>\n",
       "      <td>5464.479769</td>\n",
       "      <td>1439.066735</td>\n",
       "      <td>NaN</td>\n",
       "      <td>5471.216689</td>\n",
       "      <td>28712.129962</td>\n",
       "      <td>28696.939905</td>\n",
       "      <td>49.874341</td>\n",
       "      <td>57.884023</td>\n",
       "    </tr>\n",
       "    <tr>\n",
       "      <th>std</th>\n",
       "      <td>85.353943</td>\n",
       "      <td>354.568590</td>\n",
       "      <td>0.0</td>\n",
       "      <td>2201.830478</td>\n",
       "      <td>1961.601013</td>\n",
       "      <td>52.520673</td>\n",
       "      <td>0.0</td>\n",
       "      <td>0.0</td>\n",
       "      <td>0.0</td>\n",
       "      <td>NaN</td>\n",
       "      <td>792.406614</td>\n",
       "      <td>400.777536</td>\n",
       "      <td>1835.199745</td>\n",
       "      <td>0.0</td>\n",
       "      <td>839.667958</td>\n",
       "      <td>20.238381</td>\n",
       "      <td>14.077554</td>\n",
       "      <td>1680.119887</td>\n",
       "      <td>50.195536</td>\n",
       "      <td>0.0</td>\n",
       "      <td>3213.691587</td>\n",
       "      <td>1677.703355</td>\n",
       "      <td>NaN</td>\n",
       "      <td>3176.312853</td>\n",
       "      <td>4594.100854</td>\n",
       "      <td>4574.987950</td>\n",
       "      <td>14.618900</td>\n",
       "      <td>14.204083</td>\n",
       "    </tr>\n",
       "    <tr>\n",
       "      <th>min</th>\n",
       "      <td>0.000000</td>\n",
       "      <td>0.000000</td>\n",
       "      <td>0.0</td>\n",
       "      <td>0.000000</td>\n",
       "      <td>0.000000</td>\n",
       "      <td>0.000000</td>\n",
       "      <td>0.0</td>\n",
       "      <td>0.0</td>\n",
       "      <td>0.0</td>\n",
       "      <td>NaN</td>\n",
       "      <td>0.000000</td>\n",
       "      <td>0.000000</td>\n",
       "      <td>0.000000</td>\n",
       "      <td>0.0</td>\n",
       "      <td>0.000000</td>\n",
       "      <td>0.000000</td>\n",
       "      <td>0.000000</td>\n",
       "      <td>0.000000</td>\n",
       "      <td>0.000000</td>\n",
       "      <td>0.0</td>\n",
       "      <td>0.000000</td>\n",
       "      <td>0.000000</td>\n",
       "      <td>NaN</td>\n",
       "      <td>237.000000</td>\n",
       "      <td>18105.000000</td>\n",
       "      <td>18041.000000</td>\n",
       "      <td>2.060000</td>\n",
       "      <td>9.330000</td>\n",
       "    </tr>\n",
       "    <tr>\n",
       "      <th>25%</th>\n",
       "      <td>333.000000</td>\n",
       "      <td>0.000000</td>\n",
       "      <td>0.0</td>\n",
       "      <td>4126.000000</td>\n",
       "      <td>2527.000000</td>\n",
       "      <td>263.000000</td>\n",
       "      <td>0.0</td>\n",
       "      <td>0.0</td>\n",
       "      <td>0.0</td>\n",
       "      <td>NaN</td>\n",
       "      <td>0.000000</td>\n",
       "      <td>637.000000</td>\n",
       "      <td>1077.250000</td>\n",
       "      <td>0.0</td>\n",
       "      <td>5760.000000</td>\n",
       "      <td>53.000000</td>\n",
       "      <td>73.000000</td>\n",
       "      <td>71.000000</td>\n",
       "      <td>240.000000</td>\n",
       "      <td>0.0</td>\n",
       "      <td>2933.000000</td>\n",
       "      <td>69.000000</td>\n",
       "      <td>NaN</td>\n",
       "      <td>2979.000000</td>\n",
       "      <td>24793.750000</td>\n",
       "      <td>24807.750000</td>\n",
       "      <td>41.490000</td>\n",
       "      <td>49.347500</td>\n",
       "    </tr>\n",
       "    <tr>\n",
       "      <th>50%</th>\n",
       "      <td>367.000000</td>\n",
       "      <td>509.000000</td>\n",
       "      <td>0.0</td>\n",
       "      <td>4969.000000</td>\n",
       "      <td>4474.000000</td>\n",
       "      <td>300.000000</td>\n",
       "      <td>0.0</td>\n",
       "      <td>0.0</td>\n",
       "      <td>0.0</td>\n",
       "      <td>NaN</td>\n",
       "      <td>68.000000</td>\n",
       "      <td>906.000000</td>\n",
       "      <td>2164.000000</td>\n",
       "      <td>0.0</td>\n",
       "      <td>6566.000000</td>\n",
       "      <td>57.000000</td>\n",
       "      <td>88.000000</td>\n",
       "      <td>616.000000</td>\n",
       "      <td>279.000000</td>\n",
       "      <td>0.0</td>\n",
       "      <td>4849.000000</td>\n",
       "      <td>576.000000</td>\n",
       "      <td>NaN</td>\n",
       "      <td>4855.000000</td>\n",
       "      <td>28906.000000</td>\n",
       "      <td>28901.000000</td>\n",
       "      <td>50.520000</td>\n",
       "      <td>58.020000</td>\n",
       "    </tr>\n",
       "    <tr>\n",
       "      <th>75%</th>\n",
       "      <td>433.000000</td>\n",
       "      <td>757.000000</td>\n",
       "      <td>0.0</td>\n",
       "      <td>6429.000000</td>\n",
       "      <td>5838.750000</td>\n",
       "      <td>330.000000</td>\n",
       "      <td>0.0</td>\n",
       "      <td>0.0</td>\n",
       "      <td>0.0</td>\n",
       "      <td>NaN</td>\n",
       "      <td>616.000000</td>\n",
       "      <td>1250.000000</td>\n",
       "      <td>3757.000000</td>\n",
       "      <td>0.0</td>\n",
       "      <td>7025.000000</td>\n",
       "      <td>80.000000</td>\n",
       "      <td>97.000000</td>\n",
       "      <td>2578.000000</td>\n",
       "      <td>310.000000</td>\n",
       "      <td>0.0</td>\n",
       "      <td>7398.000000</td>\n",
       "      <td>2636.000000</td>\n",
       "      <td>NaN</td>\n",
       "      <td>7353.000000</td>\n",
       "      <td>32263.250000</td>\n",
       "      <td>32192.000000</td>\n",
       "      <td>60.530000</td>\n",
       "      <td>68.010000</td>\n",
       "    </tr>\n",
       "    <tr>\n",
       "      <th>max</th>\n",
       "      <td>592.000000</td>\n",
       "      <td>999.000000</td>\n",
       "      <td>0.0</td>\n",
       "      <td>20034.000000</td>\n",
       "      <td>8359.000000</td>\n",
       "      <td>449.000000</td>\n",
       "      <td>0.0</td>\n",
       "      <td>0.0</td>\n",
       "      <td>0.0</td>\n",
       "      <td>NaN</td>\n",
       "      <td>4523.000000</td>\n",
       "      <td>2000.000000</td>\n",
       "      <td>9728.000000</td>\n",
       "      <td>0.0</td>\n",
       "      <td>7117.000000</td>\n",
       "      <td>106.000000</td>\n",
       "      <td>119.000000</td>\n",
       "      <td>5792.000000</td>\n",
       "      <td>357.000000</td>\n",
       "      <td>0.0</td>\n",
       "      <td>17436.000000</td>\n",
       "      <td>5836.000000</td>\n",
       "      <td>NaN</td>\n",
       "      <td>17430.000000</td>\n",
       "      <td>41390.000000</td>\n",
       "      <td>41015.000000</td>\n",
       "      <td>101.990000</td>\n",
       "      <td>116.800000</td>\n",
       "    </tr>\n",
       "  </tbody>\n",
       "</table>\n",
       "</div>"
      ],
      "text/plain": [
       "       generation biomass  generation fossil brown coal/lignite  \\\n",
       "count        35045.000000                          35046.000000   \n",
       "mean           383.513540                            448.059208   \n",
       "std             85.353943                            354.568590   \n",
       "min              0.000000                              0.000000   \n",
       "25%            333.000000                              0.000000   \n",
       "50%            367.000000                            509.000000   \n",
       "75%            433.000000                            757.000000   \n",
       "max            592.000000                            999.000000   \n",
       "\n",
       "       generation fossil coal-derived gas  generation fossil gas  \\\n",
       "count                             35046.0           35046.000000   \n",
       "mean                                  0.0            5622.737488   \n",
       "std                                   0.0            2201.830478   \n",
       "min                                   0.0               0.000000   \n",
       "25%                                   0.0            4126.000000   \n",
       "50%                                   0.0            4969.000000   \n",
       "75%                                   0.0            6429.000000   \n",
       "max                                   0.0           20034.000000   \n",
       "\n",
       "       generation fossil hard coal  generation fossil oil  \\\n",
       "count                 35046.000000           35045.000000   \n",
       "mean                   4256.065742             298.319789   \n",
       "std                    1961.601013              52.520673   \n",
       "min                       0.000000               0.000000   \n",
       "25%                    2527.000000             263.000000   \n",
       "50%                    4474.000000             300.000000   \n",
       "75%                    5838.750000             330.000000   \n",
       "max                    8359.000000             449.000000   \n",
       "\n",
       "       generation fossil oil shale  generation fossil peat  \\\n",
       "count                      35046.0                 35046.0   \n",
       "mean                           0.0                     0.0   \n",
       "std                            0.0                     0.0   \n",
       "min                            0.0                     0.0   \n",
       "25%                            0.0                     0.0   \n",
       "50%                            0.0                     0.0   \n",
       "75%                            0.0                     0.0   \n",
       "max                            0.0                     0.0   \n",
       "\n",
       "       generation geothermal  generation hydro pumped storage aggregated  \\\n",
       "count                35046.0                                         0.0   \n",
       "mean                     0.0                                         NaN   \n",
       "std                      0.0                                         NaN   \n",
       "min                      0.0                                         NaN   \n",
       "25%                      0.0                                         NaN   \n",
       "50%                      0.0                                         NaN   \n",
       "75%                      0.0                                         NaN   \n",
       "max                      0.0                                         NaN   \n",
       "\n",
       "       generation hydro pumped storage consumption  \\\n",
       "count                                 35045.000000   \n",
       "mean                                    475.577343   \n",
       "std                                     792.406614   \n",
       "min                                       0.000000   \n",
       "25%                                       0.000000   \n",
       "50%                                      68.000000   \n",
       "75%                                     616.000000   \n",
       "max                                    4523.000000   \n",
       "\n",
       "       generation hydro run-of-river and poundage  \\\n",
       "count                                35045.000000   \n",
       "mean                                   972.116108   \n",
       "std                                    400.777536   \n",
       "min                                      0.000000   \n",
       "25%                                    637.000000   \n",
       "50%                                    906.000000   \n",
       "75%                                   1250.000000   \n",
       "max                                   2000.000000   \n",
       "\n",
       "       generation hydro water reservoir  generation marine  \\\n",
       "count                      35046.000000            35045.0   \n",
       "mean                        2605.114735                0.0   \n",
       "std                         1835.199745                0.0   \n",
       "min                            0.000000                0.0   \n",
       "25%                         1077.250000                0.0   \n",
       "50%                         2164.000000                0.0   \n",
       "75%                         3757.000000                0.0   \n",
       "max                         9728.000000                0.0   \n",
       "\n",
       "       generation nuclear  generation other  generation other renewable  \\\n",
       "count        35047.000000      35046.000000                35046.000000   \n",
       "mean          6263.907039         60.228585                   85.639702   \n",
       "std            839.667958         20.238381                   14.077554   \n",
       "min              0.000000          0.000000                    0.000000   \n",
       "25%           5760.000000         53.000000                   73.000000   \n",
       "50%           6566.000000         57.000000                   88.000000   \n",
       "75%           7025.000000         80.000000                   97.000000   \n",
       "max           7117.000000        106.000000                  119.000000   \n",
       "\n",
       "       generation solar  generation waste  generation wind offshore  \\\n",
       "count      35046.000000      35045.000000                   35046.0   \n",
       "mean        1432.665925        269.452133                       0.0   \n",
       "std         1680.119887         50.195536                       0.0   \n",
       "min            0.000000          0.000000                       0.0   \n",
       "25%           71.000000        240.000000                       0.0   \n",
       "50%          616.000000        279.000000                       0.0   \n",
       "75%         2578.000000        310.000000                       0.0   \n",
       "max         5792.000000        357.000000                       0.0   \n",
       "\n",
       "       generation wind onshore  forecast solar day ahead  \\\n",
       "count             35046.000000              35064.000000   \n",
       "mean               5464.479769               1439.066735   \n",
       "std                3213.691587               1677.703355   \n",
       "min                   0.000000                  0.000000   \n",
       "25%                2933.000000                 69.000000   \n",
       "50%                4849.000000                576.000000   \n",
       "75%                7398.000000               2636.000000   \n",
       "max               17436.000000               5836.000000   \n",
       "\n",
       "       forecast wind offshore eday ahead  forecast wind onshore day ahead  \\\n",
       "count                                0.0                     35064.000000   \n",
       "mean                                 NaN                      5471.216689   \n",
       "std                                  NaN                      3176.312853   \n",
       "min                                  NaN                       237.000000   \n",
       "25%                                  NaN                      2979.000000   \n",
       "50%                                  NaN                      4855.000000   \n",
       "75%                                  NaN                      7353.000000   \n",
       "max                                  NaN                     17430.000000   \n",
       "\n",
       "       total load forecast  total load actual  price day ahead  price actual  \n",
       "count         35064.000000       35028.000000     35064.000000  35064.000000  \n",
       "mean          28712.129962       28696.939905        49.874341     57.884023  \n",
       "std            4594.100854        4574.987950        14.618900     14.204083  \n",
       "min           18105.000000       18041.000000         2.060000      9.330000  \n",
       "25%           24793.750000       24807.750000        41.490000     49.347500  \n",
       "50%           28906.000000       28901.000000        50.520000     58.020000  \n",
       "75%           32263.250000       32192.000000        60.530000     68.010000  \n",
       "max           41390.000000       41015.000000       101.990000    116.800000  "
      ]
     },
     "execution_count": 4,
     "metadata": {},
     "output_type": "execute_result"
    }
   ],
   "source": [
    "# To see the general information of all column \n",
    "pd.set_option('display.max_columns',None)\n",
    "df_energy.describe()"
   ]
  },
  {
   "cell_type": "code",
   "execution_count": 5,
   "id": "5b1714e7",
   "metadata": {},
   "outputs": [],
   "source": [
    "# Delete column which contains only '0' value \n",
    "columns_zero = df_energy.columns[(df_energy.min() == 0) & (df_energy.max()==0)]\n",
    "\n",
    "df_energy.drop(columns = columns_zero, inplace = True)"
   ]
  },
  {
   "cell_type": "code",
   "execution_count": 6,
   "id": "78705e30",
   "metadata": {
    "scrolled": true
   },
   "outputs": [],
   "source": [
    "# And also drop columns which contains only NA value \n",
    "df_energy.dropna(axis = 1, how='all',inplace=True)"
   ]
  },
  {
   "cell_type": "code",
   "execution_count": 7,
   "id": "c11d773f",
   "metadata": {},
   "outputs": [
    {
     "data": {
      "text/plain": [
       "time                                            0\n",
       "generation biomass                             19\n",
       "generation fossil brown coal/lignite           18\n",
       "generation fossil gas                          18\n",
       "generation fossil hard coal                    18\n",
       "generation fossil oil                          19\n",
       "generation hydro pumped storage consumption    19\n",
       "generation hydro run-of-river and poundage     19\n",
       "generation hydro water reservoir               18\n",
       "generation nuclear                             17\n",
       "generation other                               18\n",
       "generation other renewable                     18\n",
       "generation solar                               18\n",
       "generation waste                               19\n",
       "generation wind onshore                        18\n",
       "forecast solar day ahead                        0\n",
       "forecast wind onshore day ahead                 0\n",
       "total load forecast                             0\n",
       "total load actual                              36\n",
       "price day ahead                                 0\n",
       "price actual                                    0\n",
       "dtype: int64"
      ]
     },
     "execution_count": 7,
     "metadata": {},
     "output_type": "execute_result"
    }
   ],
   "source": [
    "# We can see that now several columns have small amount of NA values\n",
    "df_energy.isna().sum()"
   ]
  },
  {
   "cell_type": "code",
   "execution_count": 8,
   "id": "67c0a95e",
   "metadata": {},
   "outputs": [],
   "source": [
    "# For these NA values, we should interpolate\n",
    "df_energy = df_energy.fillna(method='ffill')"
   ]
  },
  {
   "cell_type": "code",
   "execution_count": 9,
   "id": "a27fa97b",
   "metadata": {},
   "outputs": [],
   "source": [
    "# And we will make our row index the time information\n",
    "df_energy['time'] = pd.to_datetime(df_energy['time'],utc=True, infer_datetime_format=True)\n",
    "df_energy = df_energy.set_index('time')"
   ]
  },
  {
   "cell_type": "markdown",
   "id": "a484cf6e",
   "metadata": {},
   "source": [
    "## Weather"
   ]
  },
  {
   "cell_type": "code",
   "execution_count": 10,
   "id": "c27f2a65",
   "metadata": {},
   "outputs": [],
   "source": [
    "# Importing the weather data \n",
    "df_weather = pd.read_csv('Data\\weather_features.csv', parse_dates=['dt_iso'])"
   ]
  },
  {
   "cell_type": "code",
   "execution_count": 11,
   "id": "2d7c0f13",
   "metadata": {},
   "outputs": [
    {
     "data": {
      "text/plain": [
       "dt_iso                 0\n",
       "city_name              0\n",
       "temp                   0\n",
       "temp_min               0\n",
       "temp_max               0\n",
       "pressure               0\n",
       "humidity               0\n",
       "wind_speed             0\n",
       "wind_deg               0\n",
       "rain_1h                0\n",
       "rain_3h                0\n",
       "snow_3h                0\n",
       "clouds_all             0\n",
       "weather_id             0\n",
       "weather_main           0\n",
       "weather_description    0\n",
       "weather_icon           0\n",
       "dtype: int64"
      ]
     },
     "execution_count": 11,
     "metadata": {},
     "output_type": "execute_result"
    }
   ],
   "source": [
    "# Thanksfully, there is no NA value.\n",
    "df_weather.isna().sum(axis=0)"
   ]
  },
  {
   "cell_type": "code",
   "execution_count": 12,
   "id": "06084e11",
   "metadata": {},
   "outputs": [
    {
     "data": {
      "text/plain": [
       "sky is clear                    82685\n",
       "few clouds                      32101\n",
       "broken clouds                   17448\n",
       "scattered clouds                15945\n",
       "light rain                      10905\n",
       "mist                             3908\n",
       "moderate rain                    3621\n",
       "overcast clouds                  2561\n",
       "fog                              2506\n",
       "light intensity drizzle          1241\n",
       "heavy intensity rain             1142\n",
       "light intensity shower rain       657\n",
       "proximity thunderstorm            480\n",
       "proximity shower rain             476\n",
       "haze                              435\n",
       "shower rain                       426\n",
       "drizzle                           369\n",
       "dust                              345\n",
       "thunderstorm                      309\n",
       "light snow                        140\n",
       "thunderstorm with rain            127\n",
       "thunderstorm with light rain       92\n",
       "heavy intensity shower rain        81\n",
       "light intensity drizzle rain       79\n",
       "very heavy rain                    78\n",
       "snow                               74\n",
       "smoke                              33\n",
       "thunderstorm with heavy rain       31\n",
       "light rain and snow                20\n",
       "rain and drizzle                   19\n",
       "heavy intensity drizzle            14\n",
       "rain and snow                      13\n",
       "sleet                              13\n",
       "proximity moderate rain             4\n",
       "light shower sleet                  3\n",
       "heavy snow                          3\n",
       "light shower snow                   3\n",
       "sand dust whirls                    2\n",
       "light thunderstorm                  2\n",
       "proximity drizzle                   2\n",
       "squalls                             1\n",
       "shower sleet                        1\n",
       "ragged shower rain                  1\n",
       "Name: weather_description, dtype: int64"
      ]
     },
     "execution_count": 12,
     "metadata": {},
     "output_type": "execute_result"
    }
   ],
   "source": [
    "df_weather['weather_description'].value_counts()"
   ]
  },
  {
   "cell_type": "code",
   "execution_count": 13,
   "id": "6e351df4",
   "metadata": {},
   "outputs": [],
   "source": [
    "values_counts = df_weather['weather_description'].value_counts()"
   ]
  },
  {
   "cell_type": "code",
   "execution_count": 14,
   "id": "027f7e42",
   "metadata": {},
   "outputs": [],
   "source": [
    "top_5_values = values_counts.head(5).index.tolist()\n",
    "df_weather.loc[~df_weather['weather_description'].isin(top_5_values),'weather_description'] = 'others'"
   ]
  },
  {
   "cell_type": "code",
   "execution_count": 15,
   "id": "0d07a1b3",
   "metadata": {},
   "outputs": [
    {
     "data": {
      "text/plain": [
       "sky is clear        82685\n",
       "few clouds          32101\n",
       "others              19312\n",
       "broken clouds       17448\n",
       "scattered clouds    15945\n",
       "light rain          10905\n",
       "Name: weather_description, dtype: int64"
      ]
     },
     "execution_count": 15,
     "metadata": {},
     "output_type": "execute_result"
    }
   ],
   "source": [
    "df_weather['weather_description'].value_counts()"
   ]
  },
  {
   "cell_type": "code",
   "execution_count": 16,
   "id": "238279f4",
   "metadata": {},
   "outputs": [],
   "source": [
    "# Drop the variable relevant to weather information beside 'weather_description'\n",
    "columns_drop_weather = ['weather_id','weather_main','weather_icon']\n",
    "df_weather.drop(columns=columns_drop_weather, inplace=True)"
   ]
  },
  {
   "cell_type": "code",
   "execution_count": 17,
   "id": "e66da851",
   "metadata": {},
   "outputs": [],
   "source": [
    "dummy_df = pd.get_dummies(df_weather['weather_description'],prefix='weather')\n",
    "dummy_df = dummy_df.apply(lambda x: x.astype(bool).astype(int))"
   ]
  },
  {
   "cell_type": "code",
   "execution_count": 18,
   "id": "6ec09b7a",
   "metadata": {},
   "outputs": [],
   "source": [
    "df_weather = pd.concat([df_weather.loc[:,df_weather.columns !='weather_description'],dummy_df],axis=1)"
   ]
  },
  {
   "cell_type": "code",
   "execution_count": 19,
   "id": "830fc9ed",
   "metadata": {},
   "outputs": [],
   "source": [
    "# Also temp_min and temp_max are mostly duplicate with 'temp' variable \n",
    "df_weather = df_weather.drop(columns = ['temp_min','temp_max','rain_3h','snow_3h'])"
   ]
  },
  {
   "cell_type": "code",
   "execution_count": 20,
   "id": "ef4ffcd1",
   "metadata": {},
   "outputs": [],
   "source": [
    "# Now we are going to change the int64 to float64 for being in line with df_energy\n",
    "\n",
    "def df_convert_dtypes(df, convert_from, convert_to):\n",
    "    cols = df.select_dtypes(include=[convert_from]).columns\n",
    "    for col in cols:\n",
    "        df[col] = df[col].values.astype(convert_to)\n",
    "    return df\n",
    "df_weather = df_convert_dtypes(df_weather, np.int64, np.float64)"
   ]
  },
  {
   "cell_type": "code",
   "execution_count": 21,
   "id": "c0c47b56",
   "metadata": {},
   "outputs": [],
   "source": [
    "df_weather['time'] = pd.to_datetime(df_weather['dt_iso'], utc=True, infer_datetime_format=True)\n",
    "df_weather = df_weather.drop(['dt_iso'], axis=1)\n",
    "df_weather = df_weather.set_index('time')"
   ]
  },
  {
   "cell_type": "code",
   "execution_count": 22,
   "id": "4efcc103",
   "metadata": {},
   "outputs": [
    {
     "name": "stdout",
     "output_type": "stream",
     "text": [
      "There are 35145 observations in df_weather about city: Valencia.\n",
      "There are 36267 observations in df_weather about city: Madrid.\n",
      "There are 35951 observations in df_weather about city: Bilbao.\n",
      "There are 35476 observations in df_weather about city:  Barcelona.\n",
      "There are 35557 observations in df_weather about city: Seville.\n",
      "There are 35064 observations in df_energy.\n"
     ]
    }
   ],
   "source": [
    "# Now let's see how many the number of rows for each city. \n",
    "# The each number has to be same with the number of energy dataset row\n",
    "cities = df_weather['city_name'].unique()\n",
    "grouped_weather = df_weather.groupby('city_name')\n",
    "for city in cities:\n",
    "    print('There are {} observations in df_weather'\n",
    "          .format(grouped_weather.get_group('{}'.format(city)).shape[0]), \n",
    "          'about city: {}.'.format(city))\n",
    "print('There are {} observations in df_energy.'.format(df_energy.shape[0]))\n",
    "# Unfortunately, quite different. "
   ]
  },
  {
   "cell_type": "code",
   "execution_count": 23,
   "id": "7f82bde4",
   "metadata": {},
   "outputs": [],
   "source": [
    "# So we have to erase that \n",
    "df_weather = df_weather.reset_index().drop_duplicates(subset=['time', 'city_name'],\n",
    "                                                      keep='first').set_index('time')"
   ]
  },
  {
   "cell_type": "code",
   "execution_count": 24,
   "id": "74a0c30d",
   "metadata": {},
   "outputs": [
    {
     "name": "stdout",
     "output_type": "stream",
     "text": [
      "There are 35064 observations in df_energy.\n",
      "There are 35064 observations in df_weather about city: Valencia.\n",
      "There are 35064 observations in df_weather about city: Madrid.\n",
      "There are 35064 observations in df_weather about city: Bilbao.\n",
      "There are 35064 observations in df_weather about city:  Barcelona.\n",
      "There are 35064 observations in df_weather about city: Seville.\n"
     ]
    }
   ],
   "source": [
    "# Now let's see how many observations each city has.\n",
    "print('There are {} observations in df_energy.'.format(df_energy.shape[0]))\n",
    "\n",
    "grouped_weather = df_weather.groupby('city_name')\n",
    "\n",
    "for city in cities:\n",
    "    print('There are {} observations in df_weather'\n",
    "          .format(grouped_weather.get_group('{}'.format(city)).shape[0]), \n",
    "          'about city: {}.'.format(city))"
   ]
  },
  {
   "cell_type": "code",
   "execution_count": 25,
   "id": "f0b45374",
   "metadata": {},
   "outputs": [],
   "source": [
    "# Below is the process for merging energy dataset with weather information of each city\n",
    "df_1, df_2, df_3, df_4, df_5 = [x for _, x in df_weather.groupby('city_name')]\n",
    "dfs = [df_1, df_2, df_3, df_4, df_5]\n",
    "\n",
    "df_final = df_energy\n",
    "\n",
    "for df in dfs:\n",
    "    city = df['city_name'].unique()\n",
    "    city_str = str(city).replace(\"'\", \"\").replace('[', '').replace(']', '').replace(' ', '')\n",
    "    df = df.add_suffix('_{}'.format(city_str))\n",
    "    df_final = df_final.merge(df, on=['time'], how='outer')\n",
    "    df_final = df_final.drop('city_name_{}'.format(city_str), axis=1)\n"
   ]
  },
  {
   "cell_type": "code",
   "execution_count": 26,
   "id": "bddef1a0",
   "metadata": {},
   "outputs": [],
   "source": [
    "for i in range(len(df_final)):\n",
    "    position = df_final.index[i]\n",
    "    hour = position.hour\n",
    "    weekday = position.weekday()\n",
    "    month = position.month\n",
    "    df_final.loc[position, 'hour'] = hour\n",
    "    df_final.loc[position, 'weekday'] = weekday\n",
    "    df_final.loc[position, 'month'] = month"
   ]
  },
  {
   "cell_type": "code",
   "execution_count": 27,
   "id": "a9356c76",
   "metadata": {},
   "outputs": [],
   "source": [
    "# From here, I will use df_final_dummy\n",
    "df_final_dummy = df_final.copy()"
   ]
  },
  {
   "cell_type": "code",
   "execution_count": 28,
   "id": "872a87d0",
   "metadata": {},
   "outputs": [],
   "source": [
    "df_final_dummy['hour'] = df_final_dummy['hour'].astype('category')"
   ]
  },
  {
   "cell_type": "code",
   "execution_count": 29,
   "id": "fb139688",
   "metadata": {},
   "outputs": [],
   "source": [
    "dummy_variables_hours = pd.get_dummies(df_final_dummy['hour'])\n",
    "dummy_variables_hours.columns = ['hour_' + str(col) for col in dummy_variables_hours.columns]\n",
    "\n"
   ]
  },
  {
   "cell_type": "code",
   "execution_count": 30,
   "id": "528c1fe2",
   "metadata": {},
   "outputs": [],
   "source": [
    "# Concatenate the dummy variables with the original DataFrame\n",
    "df_final_dummy = pd.concat([df_final_dummy, dummy_variables_hours], axis=1)\n",
    "\n",
    "# Optionally, drop the original column if you no longer need it\n",
    "df_final_dummy.drop('hour', axis=1, inplace=True)"
   ]
  },
  {
   "cell_type": "code",
   "execution_count": 31,
   "id": "fc0e151f",
   "metadata": {},
   "outputs": [],
   "source": [
    "df_final_dummy['month'] = df_final_dummy['month'].astype('category')"
   ]
  },
  {
   "cell_type": "code",
   "execution_count": 32,
   "id": "b9115f90",
   "metadata": {},
   "outputs": [],
   "source": [
    "dummy_variables_months = pd.get_dummies(df_final_dummy['month'])\n",
    "dummy_variables_months.columns = ['month_' + str(col) for col in dummy_variables_months.columns]\n"
   ]
  },
  {
   "cell_type": "code",
   "execution_count": 33,
   "id": "3ec696cd",
   "metadata": {},
   "outputs": [],
   "source": [
    "# Concatenate the dummy variables with the original DataFrame\n",
    "df_final_dummy = pd.concat([df_final_dummy, dummy_variables_months], axis=1)\n",
    "\n",
    "# Optionally, drop the original column if you no longer need it\n",
    "df_final_dummy.drop('month', axis=1, inplace=True)"
   ]
  },
  {
   "cell_type": "code",
   "execution_count": 34,
   "id": "b5f612b8",
   "metadata": {},
   "outputs": [],
   "source": [
    "df_final_dummy['weekday_dummy'] = df_final_dummy['weekday'].apply(lambda x: 1 if x <= 5 else 0)"
   ]
  },
  {
   "cell_type": "code",
   "execution_count": 35,
   "id": "e074938b",
   "metadata": {},
   "outputs": [],
   "source": [
    "df_final_dummy.drop('weekday', axis=1, inplace=True)"
   ]
  },
  {
   "cell_type": "code",
   "execution_count": 36,
   "id": "277adf36",
   "metadata": {},
   "outputs": [],
   "source": [
    "df_final_dummy.reset_index(inplace=True)"
   ]
  },
  {
   "cell_type": "code",
   "execution_count": 144,
   "id": "9f189f7a",
   "metadata": {},
   "outputs": [],
   "source": [
    "df_final_dummy.to_csv('df_final.csv', index=False)"
   ]
  }
 ],
 "metadata": {
  "kernelspec": {
   "display_name": "Python 3",
   "language": "python",
   "name": "python3"
  },
  "language_info": {
   "codemirror_mode": {
    "name": "ipython",
    "version": 3
   },
   "file_extension": ".py",
   "mimetype": "text/x-python",
   "name": "python",
   "nbconvert_exporter": "python",
   "pygments_lexer": "ipython3",
   "version": "3.8.8"
  }
 },
 "nbformat": 4,
 "nbformat_minor": 5
}
