{
 "cells": [
  {
   "cell_type": "code",
   "execution_count": 3,
   "id": "29572624",
   "metadata": {},
   "outputs": [],
   "source": [
    "import warnings\n",
    "warnings.simplefilter(action='ignore', category=(FutureWarning, UserWarning))"
   ]
  },
  {
   "cell_type": "code",
   "execution_count": 4,
   "id": "1423649b",
   "metadata": {},
   "outputs": [],
   "source": [
    "import os\n",
    "import pandas as pd\n",
    "import numpy as np\n",
    "import matplotlib.pyplot as plt\n",
    "import seaborn as sns\n",
    "import statsmodels.api as sm\n",
    "import tensorflow as tf\n",
    "import os\n",
    "from tensorflow.keras.layers import Dense, LSTM, Conv1D, MaxPooling1D, TimeDistributed, Flatten, Dropout, RepeatVector\n",
    "from statsmodels.graphics.tsaplots import plot_acf, plot_pacf\n",
    "from statsmodels.tsa.stattools import adfuller, kpss, ccf\n",
    "from sklearn.metrics import mean_squared_error, r2_score\n",
    "from sklearn.preprocessing import LabelEncoder, StandardScaler, MinMaxScaler\n",
    "from sklearn.decomposition import PCA\n",
    "from sklearn.model_selection import train_test_split\n",
    "from math import sqrt"
   ]
  },
  {
   "cell_type": "code",
   "execution_count": 5,
   "id": "4dbc63af",
   "metadata": {},
   "outputs": [],
   "source": [
    "df_weather = pd.read_csv('Data\\weather_features.csv', parse_dates=['dt_iso'])"
   ]
  },
  {
   "cell_type": "code",
   "execution_count": 6,
   "id": "597d531b",
   "metadata": {},
   "outputs": [],
   "source": [
    "df_energy = pd.read_csv('Data\\energy_dataset.csv',parse_dates=['time'])"
   ]
  },
  {
   "cell_type": "code",
   "execution_count": 7,
   "id": "78705e30",
   "metadata": {
    "scrolled": true
   },
   "outputs": [
    {
     "data": {
      "text/plain": [
       "time                                               0\n",
       "generation biomass                                19\n",
       "generation fossil brown coal/lignite              18\n",
       "generation fossil coal-derived gas                18\n",
       "generation fossil gas                             18\n",
       "generation fossil hard coal                       18\n",
       "generation fossil oil                             19\n",
       "generation fossil oil shale                       18\n",
       "generation fossil peat                            18\n",
       "generation geothermal                             18\n",
       "generation hydro pumped storage aggregated     35064\n",
       "generation hydro pumped storage consumption       19\n",
       "generation hydro run-of-river and poundage        19\n",
       "generation hydro water reservoir                  18\n",
       "generation marine                                 19\n",
       "generation nuclear                                17\n",
       "generation other                                  18\n",
       "generation other renewable                        18\n",
       "generation solar                                  18\n",
       "generation waste                                  19\n",
       "generation wind offshore                          18\n",
       "generation wind onshore                           18\n",
       "forecast solar day ahead                           0\n",
       "forecast wind offshore eday ahead              35064\n",
       "forecast wind onshore day ahead                    0\n",
       "total load forecast                                0\n",
       "total load actual                                 36\n",
       "price day ahead                                    0\n",
       "price actual                                       0\n",
       "dtype: int64"
      ]
     },
     "execution_count": 7,
     "metadata": {},
     "output_type": "execute_result"
    }
   ],
   "source": [
    "df_energy.isna().sum()"
   ]
  },
  {
   "cell_type": "code",
   "execution_count": 36,
   "id": "c5593166",
   "metadata": {},
   "outputs": [],
   "source": [
    "df_energy = df_energy.drop(['generation hydro pumped storage aggregated','forecast wind offshore eday ahead'],axis=1)"
   ]
  },
  {
   "cell_type": "code",
   "execution_count": 39,
   "id": "d311b3c3",
   "metadata": {},
   "outputs": [
    {
     "data": {
      "text/plain": [
       "time                                           0\n",
       "generation biomass                             0\n",
       "generation fossil brown coal/lignite           0\n",
       "generation fossil coal-derived gas             0\n",
       "generation fossil gas                          0\n",
       "generation fossil hard coal                    0\n",
       "generation fossil oil                          0\n",
       "generation fossil oil shale                    0\n",
       "generation fossil peat                         0\n",
       "generation geothermal                          0\n",
       "generation hydro pumped storage consumption    0\n",
       "generation hydro run-of-river and poundage     0\n",
       "generation hydro water reservoir               0\n",
       "generation marine                              0\n",
       "generation nuclear                             0\n",
       "generation other                               0\n",
       "generation other renewable                     0\n",
       "generation solar                               0\n",
       "generation waste                               0\n",
       "generation wind offshore                       0\n",
       "generation wind onshore                        0\n",
       "forecast solar day ahead                       0\n",
       "forecast wind onshore day ahead                0\n",
       "total load forecast                            0\n",
       "total load actual                              0\n",
       "price day ahead                                0\n",
       "price actual                                   0\n",
       "dtype: int64"
      ]
     },
     "execution_count": 39,
     "metadata": {},
     "output_type": "execute_result"
    }
   ],
   "source": [
    "df_energy.isna().sum()"
   ]
  },
  {
   "cell_type": "code",
   "execution_count": 38,
   "id": "67c0a95e",
   "metadata": {},
   "outputs": [],
   "source": [
    "df_energy = df_energy.fillna(method='ffill')"
   ]
  },
  {
   "cell_type": "code",
   "execution_count": 40,
   "id": "830c1c90",
   "metadata": {},
   "outputs": [
    {
     "name": "stdout",
     "output_type": "stream",
     "text": [
      "<class 'pandas.core.frame.DataFrame'>\n",
      "RangeIndex: 35064 entries, 0 to 35063\n",
      "Data columns (total 27 columns):\n",
      " #   Column                                       Non-Null Count  Dtype  \n",
      "---  ------                                       --------------  -----  \n",
      " 0   time                                         35064 non-null  object \n",
      " 1   generation biomass                           35064 non-null  float64\n",
      " 2   generation fossil brown coal/lignite         35064 non-null  float64\n",
      " 3   generation fossil coal-derived gas           35064 non-null  float64\n",
      " 4   generation fossil gas                        35064 non-null  float64\n",
      " 5   generation fossil hard coal                  35064 non-null  float64\n",
      " 6   generation fossil oil                        35064 non-null  float64\n",
      " 7   generation fossil oil shale                  35064 non-null  float64\n",
      " 8   generation fossil peat                       35064 non-null  float64\n",
      " 9   generation geothermal                        35064 non-null  float64\n",
      " 10  generation hydro pumped storage consumption  35064 non-null  float64\n",
      " 11  generation hydro run-of-river and poundage   35064 non-null  float64\n",
      " 12  generation hydro water reservoir             35064 non-null  float64\n",
      " 13  generation marine                            35064 non-null  float64\n",
      " 14  generation nuclear                           35064 non-null  float64\n",
      " 15  generation other                             35064 non-null  float64\n",
      " 16  generation other renewable                   35064 non-null  float64\n",
      " 17  generation solar                             35064 non-null  float64\n",
      " 18  generation waste                             35064 non-null  float64\n",
      " 19  generation wind offshore                     35064 non-null  float64\n",
      " 20  generation wind onshore                      35064 non-null  float64\n",
      " 21  forecast solar day ahead                     35064 non-null  float64\n",
      " 22  forecast wind onshore day ahead              35064 non-null  float64\n",
      " 23  total load forecast                          35064 non-null  float64\n",
      " 24  total load actual                            35064 non-null  float64\n",
      " 25  price day ahead                              35064 non-null  float64\n",
      " 26  price actual                                 35064 non-null  float64\n",
      "dtypes: float64(26), object(1)\n",
      "memory usage: 7.2+ MB\n"
     ]
    }
   ],
   "source": [
    "df_energy.info()"
   ]
  },
  {
   "cell_type": "code",
   "execution_count": 41,
   "id": "a27fa97b",
   "metadata": {},
   "outputs": [],
   "source": [
    "df_energy['time'] = pd.to_datetime(df_energy['time'],utc=True, infer_datetime_format=True)\n",
    "df_energy = df_energy.set_index('time')"
   ]
  },
  {
   "cell_type": "code",
   "execution_count": 42,
   "id": "5ea97c15",
   "metadata": {},
   "outputs": [
    {
     "data": {
      "text/html": [
       "<div>\n",
       "<style scoped>\n",
       "    .dataframe tbody tr th:only-of-type {\n",
       "        vertical-align: middle;\n",
       "    }\n",
       "\n",
       "    .dataframe tbody tr th {\n",
       "        vertical-align: top;\n",
       "    }\n",
       "\n",
       "    .dataframe thead th {\n",
       "        text-align: right;\n",
       "    }\n",
       "</style>\n",
       "<table border=\"1\" class=\"dataframe\">\n",
       "  <thead>\n",
       "    <tr style=\"text-align: right;\">\n",
       "      <th></th>\n",
       "      <th>generation biomass</th>\n",
       "      <th>generation fossil brown coal/lignite</th>\n",
       "      <th>generation fossil coal-derived gas</th>\n",
       "      <th>generation fossil gas</th>\n",
       "      <th>generation fossil hard coal</th>\n",
       "      <th>generation fossil oil</th>\n",
       "      <th>generation fossil oil shale</th>\n",
       "      <th>generation fossil peat</th>\n",
       "      <th>generation geothermal</th>\n",
       "      <th>generation hydro pumped storage consumption</th>\n",
       "      <th>...</th>\n",
       "      <th>generation solar</th>\n",
       "      <th>generation waste</th>\n",
       "      <th>generation wind offshore</th>\n",
       "      <th>generation wind onshore</th>\n",
       "      <th>forecast solar day ahead</th>\n",
       "      <th>forecast wind onshore day ahead</th>\n",
       "      <th>total load forecast</th>\n",
       "      <th>total load actual</th>\n",
       "      <th>price day ahead</th>\n",
       "      <th>price actual</th>\n",
       "    </tr>\n",
       "    <tr>\n",
       "      <th>time</th>\n",
       "      <th></th>\n",
       "      <th></th>\n",
       "      <th></th>\n",
       "      <th></th>\n",
       "      <th></th>\n",
       "      <th></th>\n",
       "      <th></th>\n",
       "      <th></th>\n",
       "      <th></th>\n",
       "      <th></th>\n",
       "      <th></th>\n",
       "      <th></th>\n",
       "      <th></th>\n",
       "      <th></th>\n",
       "      <th></th>\n",
       "      <th></th>\n",
       "      <th></th>\n",
       "      <th></th>\n",
       "      <th></th>\n",
       "      <th></th>\n",
       "      <th></th>\n",
       "    </tr>\n",
       "  </thead>\n",
       "  <tbody>\n",
       "    <tr>\n",
       "      <th>2014-12-31 23:00:00+00:00</th>\n",
       "      <td>447.0</td>\n",
       "      <td>329.0</td>\n",
       "      <td>0.0</td>\n",
       "      <td>4844.0</td>\n",
       "      <td>4821.0</td>\n",
       "      <td>162.0</td>\n",
       "      <td>0.0</td>\n",
       "      <td>0.0</td>\n",
       "      <td>0.0</td>\n",
       "      <td>863.0</td>\n",
       "      <td>...</td>\n",
       "      <td>49.0</td>\n",
       "      <td>196.0</td>\n",
       "      <td>0.0</td>\n",
       "      <td>6378.0</td>\n",
       "      <td>17.0</td>\n",
       "      <td>6436.0</td>\n",
       "      <td>26118.0</td>\n",
       "      <td>25385.0</td>\n",
       "      <td>50.10</td>\n",
       "      <td>65.41</td>\n",
       "    </tr>\n",
       "    <tr>\n",
       "      <th>2015-01-01 00:00:00+00:00</th>\n",
       "      <td>449.0</td>\n",
       "      <td>328.0</td>\n",
       "      <td>0.0</td>\n",
       "      <td>5196.0</td>\n",
       "      <td>4755.0</td>\n",
       "      <td>158.0</td>\n",
       "      <td>0.0</td>\n",
       "      <td>0.0</td>\n",
       "      <td>0.0</td>\n",
       "      <td>920.0</td>\n",
       "      <td>...</td>\n",
       "      <td>50.0</td>\n",
       "      <td>195.0</td>\n",
       "      <td>0.0</td>\n",
       "      <td>5890.0</td>\n",
       "      <td>16.0</td>\n",
       "      <td>5856.0</td>\n",
       "      <td>24934.0</td>\n",
       "      <td>24382.0</td>\n",
       "      <td>48.10</td>\n",
       "      <td>64.92</td>\n",
       "    </tr>\n",
       "    <tr>\n",
       "      <th>2015-01-01 01:00:00+00:00</th>\n",
       "      <td>448.0</td>\n",
       "      <td>323.0</td>\n",
       "      <td>0.0</td>\n",
       "      <td>4857.0</td>\n",
       "      <td>4581.0</td>\n",
       "      <td>157.0</td>\n",
       "      <td>0.0</td>\n",
       "      <td>0.0</td>\n",
       "      <td>0.0</td>\n",
       "      <td>1164.0</td>\n",
       "      <td>...</td>\n",
       "      <td>50.0</td>\n",
       "      <td>196.0</td>\n",
       "      <td>0.0</td>\n",
       "      <td>5461.0</td>\n",
       "      <td>8.0</td>\n",
       "      <td>5454.0</td>\n",
       "      <td>23515.0</td>\n",
       "      <td>22734.0</td>\n",
       "      <td>47.33</td>\n",
       "      <td>64.48</td>\n",
       "    </tr>\n",
       "    <tr>\n",
       "      <th>2015-01-01 02:00:00+00:00</th>\n",
       "      <td>438.0</td>\n",
       "      <td>254.0</td>\n",
       "      <td>0.0</td>\n",
       "      <td>4314.0</td>\n",
       "      <td>4131.0</td>\n",
       "      <td>160.0</td>\n",
       "      <td>0.0</td>\n",
       "      <td>0.0</td>\n",
       "      <td>0.0</td>\n",
       "      <td>1503.0</td>\n",
       "      <td>...</td>\n",
       "      <td>50.0</td>\n",
       "      <td>191.0</td>\n",
       "      <td>0.0</td>\n",
       "      <td>5238.0</td>\n",
       "      <td>2.0</td>\n",
       "      <td>5151.0</td>\n",
       "      <td>22642.0</td>\n",
       "      <td>21286.0</td>\n",
       "      <td>42.27</td>\n",
       "      <td>59.32</td>\n",
       "    </tr>\n",
       "    <tr>\n",
       "      <th>2015-01-01 03:00:00+00:00</th>\n",
       "      <td>428.0</td>\n",
       "      <td>187.0</td>\n",
       "      <td>0.0</td>\n",
       "      <td>4130.0</td>\n",
       "      <td>3840.0</td>\n",
       "      <td>156.0</td>\n",
       "      <td>0.0</td>\n",
       "      <td>0.0</td>\n",
       "      <td>0.0</td>\n",
       "      <td>1826.0</td>\n",
       "      <td>...</td>\n",
       "      <td>42.0</td>\n",
       "      <td>189.0</td>\n",
       "      <td>0.0</td>\n",
       "      <td>4935.0</td>\n",
       "      <td>9.0</td>\n",
       "      <td>4861.0</td>\n",
       "      <td>21785.0</td>\n",
       "      <td>20264.0</td>\n",
       "      <td>38.41</td>\n",
       "      <td>56.04</td>\n",
       "    </tr>\n",
       "  </tbody>\n",
       "</table>\n",
       "<p>5 rows × 26 columns</p>\n",
       "</div>"
      ],
      "text/plain": [
       "                           generation biomass  \\\n",
       "time                                            \n",
       "2014-12-31 23:00:00+00:00               447.0   \n",
       "2015-01-01 00:00:00+00:00               449.0   \n",
       "2015-01-01 01:00:00+00:00               448.0   \n",
       "2015-01-01 02:00:00+00:00               438.0   \n",
       "2015-01-01 03:00:00+00:00               428.0   \n",
       "\n",
       "                           generation fossil brown coal/lignite  \\\n",
       "time                                                              \n",
       "2014-12-31 23:00:00+00:00                                 329.0   \n",
       "2015-01-01 00:00:00+00:00                                 328.0   \n",
       "2015-01-01 01:00:00+00:00                                 323.0   \n",
       "2015-01-01 02:00:00+00:00                                 254.0   \n",
       "2015-01-01 03:00:00+00:00                                 187.0   \n",
       "\n",
       "                           generation fossil coal-derived gas  \\\n",
       "time                                                            \n",
       "2014-12-31 23:00:00+00:00                                 0.0   \n",
       "2015-01-01 00:00:00+00:00                                 0.0   \n",
       "2015-01-01 01:00:00+00:00                                 0.0   \n",
       "2015-01-01 02:00:00+00:00                                 0.0   \n",
       "2015-01-01 03:00:00+00:00                                 0.0   \n",
       "\n",
       "                           generation fossil gas  generation fossil hard coal  \\\n",
       "time                                                                            \n",
       "2014-12-31 23:00:00+00:00                 4844.0                       4821.0   \n",
       "2015-01-01 00:00:00+00:00                 5196.0                       4755.0   \n",
       "2015-01-01 01:00:00+00:00                 4857.0                       4581.0   \n",
       "2015-01-01 02:00:00+00:00                 4314.0                       4131.0   \n",
       "2015-01-01 03:00:00+00:00                 4130.0                       3840.0   \n",
       "\n",
       "                           generation fossil oil  generation fossil oil shale  \\\n",
       "time                                                                            \n",
       "2014-12-31 23:00:00+00:00                  162.0                          0.0   \n",
       "2015-01-01 00:00:00+00:00                  158.0                          0.0   \n",
       "2015-01-01 01:00:00+00:00                  157.0                          0.0   \n",
       "2015-01-01 02:00:00+00:00                  160.0                          0.0   \n",
       "2015-01-01 03:00:00+00:00                  156.0                          0.0   \n",
       "\n",
       "                           generation fossil peat  generation geothermal  \\\n",
       "time                                                                       \n",
       "2014-12-31 23:00:00+00:00                     0.0                    0.0   \n",
       "2015-01-01 00:00:00+00:00                     0.0                    0.0   \n",
       "2015-01-01 01:00:00+00:00                     0.0                    0.0   \n",
       "2015-01-01 02:00:00+00:00                     0.0                    0.0   \n",
       "2015-01-01 03:00:00+00:00                     0.0                    0.0   \n",
       "\n",
       "                           generation hydro pumped storage consumption  ...  \\\n",
       "time                                                                    ...   \n",
       "2014-12-31 23:00:00+00:00                                        863.0  ...   \n",
       "2015-01-01 00:00:00+00:00                                        920.0  ...   \n",
       "2015-01-01 01:00:00+00:00                                       1164.0  ...   \n",
       "2015-01-01 02:00:00+00:00                                       1503.0  ...   \n",
       "2015-01-01 03:00:00+00:00                                       1826.0  ...   \n",
       "\n",
       "                           generation solar  generation waste  \\\n",
       "time                                                            \n",
       "2014-12-31 23:00:00+00:00              49.0             196.0   \n",
       "2015-01-01 00:00:00+00:00              50.0             195.0   \n",
       "2015-01-01 01:00:00+00:00              50.0             196.0   \n",
       "2015-01-01 02:00:00+00:00              50.0             191.0   \n",
       "2015-01-01 03:00:00+00:00              42.0             189.0   \n",
       "\n",
       "                           generation wind offshore  generation wind onshore  \\\n",
       "time                                                                           \n",
       "2014-12-31 23:00:00+00:00                       0.0                   6378.0   \n",
       "2015-01-01 00:00:00+00:00                       0.0                   5890.0   \n",
       "2015-01-01 01:00:00+00:00                       0.0                   5461.0   \n",
       "2015-01-01 02:00:00+00:00                       0.0                   5238.0   \n",
       "2015-01-01 03:00:00+00:00                       0.0                   4935.0   \n",
       "\n",
       "                           forecast solar day ahead  \\\n",
       "time                                                  \n",
       "2014-12-31 23:00:00+00:00                      17.0   \n",
       "2015-01-01 00:00:00+00:00                      16.0   \n",
       "2015-01-01 01:00:00+00:00                       8.0   \n",
       "2015-01-01 02:00:00+00:00                       2.0   \n",
       "2015-01-01 03:00:00+00:00                       9.0   \n",
       "\n",
       "                           forecast wind onshore day ahead  \\\n",
       "time                                                         \n",
       "2014-12-31 23:00:00+00:00                           6436.0   \n",
       "2015-01-01 00:00:00+00:00                           5856.0   \n",
       "2015-01-01 01:00:00+00:00                           5454.0   \n",
       "2015-01-01 02:00:00+00:00                           5151.0   \n",
       "2015-01-01 03:00:00+00:00                           4861.0   \n",
       "\n",
       "                           total load forecast  total load actual  \\\n",
       "time                                                                \n",
       "2014-12-31 23:00:00+00:00              26118.0            25385.0   \n",
       "2015-01-01 00:00:00+00:00              24934.0            24382.0   \n",
       "2015-01-01 01:00:00+00:00              23515.0            22734.0   \n",
       "2015-01-01 02:00:00+00:00              22642.0            21286.0   \n",
       "2015-01-01 03:00:00+00:00              21785.0            20264.0   \n",
       "\n",
       "                           price day ahead  price actual  \n",
       "time                                                      \n",
       "2014-12-31 23:00:00+00:00            50.10         65.41  \n",
       "2015-01-01 00:00:00+00:00            48.10         64.92  \n",
       "2015-01-01 01:00:00+00:00            47.33         64.48  \n",
       "2015-01-01 02:00:00+00:00            42.27         59.32  \n",
       "2015-01-01 03:00:00+00:00            38.41         56.04  \n",
       "\n",
       "[5 rows x 26 columns]"
      ]
     },
     "execution_count": 42,
     "metadata": {},
     "output_type": "execute_result"
    }
   ],
   "source": [
    "df_energy.head()"
   ]
  },
  {
   "cell_type": "code",
   "execution_count": null,
   "id": "1a1c8062",
   "metadata": {},
   "outputs": [],
   "source": [
    "## Weather"
   ]
  },
  {
   "cell_type": "code",
   "execution_count": 43,
   "id": "2d7c0f13",
   "metadata": {},
   "outputs": [
    {
     "data": {
      "text/plain": [
       "dt_iso                 0\n",
       "city_name              0\n",
       "temp                   0\n",
       "temp_min               0\n",
       "temp_max               0\n",
       "pressure               0\n",
       "humidity               0\n",
       "wind_speed             0\n",
       "wind_deg               0\n",
       "rain_1h                0\n",
       "rain_3h                0\n",
       "snow_3h                0\n",
       "clouds_all             0\n",
       "weather_id             0\n",
       "weather_main           0\n",
       "weather_description    0\n",
       "weather_icon           0\n",
       "dtype: int64"
      ]
     },
     "execution_count": 43,
     "metadata": {},
     "output_type": "execute_result"
    }
   ],
   "source": [
    "df_weather.isna().sum(axis=0)"
   ]
  },
  {
   "cell_type": "code",
   "execution_count": 17,
   "id": "93cafb9a",
   "metadata": {},
   "outputs": [
    {
     "name": "stdout",
     "output_type": "stream",
     "text": [
      "<class 'pandas.core.frame.DataFrame'>\n",
      "RangeIndex: 178396 entries, 0 to 178395\n",
      "Data columns (total 17 columns):\n",
      " #   Column               Non-Null Count   Dtype  \n",
      "---  ------               --------------   -----  \n",
      " 0   dt_iso               178396 non-null  object \n",
      " 1   city_name            178396 non-null  object \n",
      " 2   temp                 178396 non-null  float64\n",
      " 3   temp_min             178396 non-null  float64\n",
      " 4   temp_max             178396 non-null  float64\n",
      " 5   pressure             178396 non-null  int64  \n",
      " 6   humidity             178396 non-null  int64  \n",
      " 7   wind_speed           178396 non-null  int64  \n",
      " 8   wind_deg             178396 non-null  int64  \n",
      " 9   rain_1h              178396 non-null  float64\n",
      " 10  rain_3h              178396 non-null  float64\n",
      " 11  snow_3h              178396 non-null  float64\n",
      " 12  clouds_all           178396 non-null  int64  \n",
      " 13  weather_id           178396 non-null  int64  \n",
      " 14  weather_main         178396 non-null  object \n",
      " 15  weather_description  178396 non-null  object \n",
      " 16  weather_icon         178396 non-null  object \n",
      "dtypes: float64(6), int64(6), object(5)\n",
      "memory usage: 23.1+ MB\n"
     ]
    }
   ],
   "source": [
    "df_weather.info()"
   ]
  },
  {
   "cell_type": "code",
   "execution_count": 45,
   "id": "ef4ffcd1",
   "metadata": {},
   "outputs": [],
   "source": [
    "def df_convert_dtypes(df, convert_from, convert_to):\n",
    "    cols = df.select_dtypes(include=[convert_from]).columns\n",
    "    for col in cols:\n",
    "        df[col] = df[col].values.astype(convert_to)\n",
    "    return df"
   ]
  },
  {
   "cell_type": "code",
   "execution_count": 46,
   "id": "cd3eeba4",
   "metadata": {},
   "outputs": [],
   "source": [
    "# For being in line with df_energy\n",
    "df_weather = df_convert_dtypes(df_weather, np.int64, np.float64)"
   ]
  },
  {
   "cell_type": "code",
   "execution_count": 47,
   "id": "c0c47b56",
   "metadata": {},
   "outputs": [],
   "source": [
    "df_weather['time'] = pd.to_datetime(df_weather['dt_iso'], utc=True, infer_datetime_format=True)\n",
    "df_weather = df_weather.drop(['dt_iso'], axis=1)\n",
    "df_weather = df_weather.set_index('time')"
   ]
  },
  {
   "cell_type": "code",
   "execution_count": 48,
   "id": "7f82bde4",
   "metadata": {},
   "outputs": [],
   "source": [
    "df_weather = df_weather.reset_index().drop_duplicates(subset=['time', 'city_name'],\n",
    "                                                      keep='first').set_index('time')"
   ]
  },
  {
   "cell_type": "code",
   "execution_count": 49,
   "id": "74a0c30d",
   "metadata": {},
   "outputs": [
    {
     "name": "stdout",
     "output_type": "stream",
     "text": [
      "There are 35064 observations in df_energy.\n",
      "There are 35064 observations in df_weather about city: Valencia.\n",
      "There are 35064 observations in df_weather about city: Madrid.\n",
      "There are 35064 observations in df_weather about city: Bilbao.\n",
      "There are 35064 observations in df_weather about city:  Barcelona.\n",
      "There are 35064 observations in df_weather about city: Seville.\n"
     ]
    }
   ],
   "source": [
    "print('There are {} observations in df_energy.'.format(df_energy.shape[0]))\n",
    "\n",
    "grouped_weather = df_weather.groupby('city_name')\n",
    "cities = df_weather['city_name'].unique()\n",
    "for city in cities:\n",
    "    print('There are {} observations in df_weather'\n",
    "          .format(grouped_weather.get_group('{}'.format(city)).shape[0]), \n",
    "          'about city: {}.'.format(city))"
   ]
  },
  {
   "cell_type": "code",
   "execution_count": 25,
   "id": "ad5534d5",
   "metadata": {},
   "outputs": [
    {
     "data": {
      "text/plain": [
       "Index(['city_name', 'temp', 'temp_min', 'temp_max', 'pressure', 'humidity',\n",
       "       'wind_speed', 'wind_deg', 'rain_1h', 'rain_3h', 'snow_3h', 'clouds_all',\n",
       "       'weather_id', 'weather_main', 'weather_description', 'weather_icon'],\n",
       "      dtype='object')"
      ]
     },
     "execution_count": 25,
     "metadata": {},
     "output_type": "execute_result"
    }
   ],
   "source": [
    "df_weather.columns"
   ]
  },
  {
   "cell_type": "code",
   "execution_count": 50,
   "id": "f0b45374",
   "metadata": {},
   "outputs": [],
   "source": [
    "df_1, df_2, df_3, df_4, df_5 = [x for _, x in df_weather.groupby('city_name')]\n",
    "dfs = [df_1, df_2, df_3, df_4, df_5]"
   ]
  },
  {
   "cell_type": "code",
   "execution_count": 51,
   "id": "194a9fc7",
   "metadata": {},
   "outputs": [
    {
     "data": {
      "text/plain": [
       "Index(['generation biomass', 'generation fossil brown coal/lignite',\n",
       "       'generation fossil coal-derived gas', 'generation fossil gas',\n",
       "       'generation fossil hard coal', 'generation fossil oil',\n",
       "       'generation fossil oil shale', 'generation fossil peat',\n",
       "       'generation geothermal', 'generation hydro pumped storage consumption',\n",
       "       ...\n",
       "       'wind_speed_Valencia', 'wind_deg_Valencia', 'rain_1h_Valencia',\n",
       "       'rain_3h_Valencia', 'snow_3h_Valencia', 'clouds_all_Valencia',\n",
       "       'weather_id_Valencia', 'weather_main_Valencia',\n",
       "       'weather_description_Valencia', 'weather_icon_Valencia'],\n",
       "      dtype='object', length=101)"
      ]
     },
     "execution_count": 51,
     "metadata": {},
     "output_type": "execute_result"
    }
   ],
   "source": [
    "df_final = df_energy\n",
    "\n",
    "for df in dfs:\n",
    "    city = df['city_name'].unique()\n",
    "    city_str = str(city).replace(\"'\", \"\").replace('[', '').replace(']', '').replace(' ', '')\n",
    "    df = df.add_suffix('_{}'.format(city_str))\n",
    "    df_final = df_final.merge(df, on=['time'], how='outer')\n",
    "    df_final = df_final.drop('city_name_{}'.format(city_str), axis=1)\n",
    "    \n",
    "df_final.shape"
   ]
  },
  {
   "cell_type": "code",
   "execution_count": 52,
   "id": "7d2b8008",
   "metadata": {},
   "outputs": [
    {
     "data": {
      "text/plain": [
       "(35064, 101)"
      ]
     },
     "execution_count": 52,
     "metadata": {},
     "output_type": "execute_result"
    }
   ],
   "source": [
    "df_final.shape"
   ]
  },
  {
   "cell_type": "code",
   "execution_count": null,
   "id": "e5b37b10",
   "metadata": {},
   "outputs": [],
   "source": [
    "df_energ"
   ]
  },
  {
   "cell_type": "code",
   "execution_count": 59,
   "id": "a7b51287",
   "metadata": {},
   "outputs": [
    {
     "data": {
      "text/plain": [
       "time\n",
       "2014-12-31 23:00:00+00:00    49.0\n",
       "2015-01-01 00:00:00+00:00    50.0\n",
       "2015-01-01 01:00:00+00:00    50.0\n",
       "2015-01-01 02:00:00+00:00    50.0\n",
       "2015-01-01 03:00:00+00:00    42.0\n",
       "                             ... \n",
       "2018-12-31 18:00:00+00:00    85.0\n",
       "2018-12-31 19:00:00+00:00    33.0\n",
       "2018-12-31 20:00:00+00:00    31.0\n",
       "2018-12-31 21:00:00+00:00    31.0\n",
       "2018-12-31 22:00:00+00:00    31.0\n",
       "Name: generation solar, Length: 35064, dtype: float64"
      ]
     },
     "execution_count": 59,
     "metadata": {},
     "output_type": "execute_result"
    }
   ],
   "source": [
    "df_final['generation solar']"
   ]
  },
  {
   "cell_type": "code",
   "execution_count": 57,
   "id": "58b2b9b9",
   "metadata": {},
   "outputs": [
    {
     "data": {
      "text/html": [
       "<div>\n",
       "<style scoped>\n",
       "    .dataframe tbody tr th:only-of-type {\n",
       "        vertical-align: middle;\n",
       "    }\n",
       "\n",
       "    .dataframe tbody tr th {\n",
       "        vertical-align: top;\n",
       "    }\n",
       "\n",
       "    .dataframe thead th {\n",
       "        text-align: right;\n",
       "    }\n",
       "</style>\n",
       "<table border=\"1\" class=\"dataframe\">\n",
       "  <thead>\n",
       "    <tr style=\"text-align: right;\">\n",
       "      <th></th>\n",
       "      <th>total load actual</th>\n",
       "      <th>total load forecast</th>\n",
       "    </tr>\n",
       "    <tr>\n",
       "      <th>time</th>\n",
       "      <th></th>\n",
       "      <th></th>\n",
       "    </tr>\n",
       "  </thead>\n",
       "  <tbody>\n",
       "    <tr>\n",
       "      <th>2014-12-31 23:00:00+00:00</th>\n",
       "      <td>25385.0</td>\n",
       "      <td>26118.0</td>\n",
       "    </tr>\n",
       "    <tr>\n",
       "      <th>2015-01-01 00:00:00+00:00</th>\n",
       "      <td>24382.0</td>\n",
       "      <td>24934.0</td>\n",
       "    </tr>\n",
       "    <tr>\n",
       "      <th>2015-01-01 01:00:00+00:00</th>\n",
       "      <td>22734.0</td>\n",
       "      <td>23515.0</td>\n",
       "    </tr>\n",
       "    <tr>\n",
       "      <th>2015-01-01 02:00:00+00:00</th>\n",
       "      <td>21286.0</td>\n",
       "      <td>22642.0</td>\n",
       "    </tr>\n",
       "    <tr>\n",
       "      <th>2015-01-01 03:00:00+00:00</th>\n",
       "      <td>20264.0</td>\n",
       "      <td>21785.0</td>\n",
       "    </tr>\n",
       "    <tr>\n",
       "      <th>...</th>\n",
       "      <td>...</td>\n",
       "      <td>...</td>\n",
       "    </tr>\n",
       "    <tr>\n",
       "      <th>2018-12-31 18:00:00+00:00</th>\n",
       "      <td>30653.0</td>\n",
       "      <td>30619.0</td>\n",
       "    </tr>\n",
       "    <tr>\n",
       "      <th>2018-12-31 19:00:00+00:00</th>\n",
       "      <td>29735.0</td>\n",
       "      <td>29932.0</td>\n",
       "    </tr>\n",
       "    <tr>\n",
       "      <th>2018-12-31 20:00:00+00:00</th>\n",
       "      <td>28071.0</td>\n",
       "      <td>27903.0</td>\n",
       "    </tr>\n",
       "    <tr>\n",
       "      <th>2018-12-31 21:00:00+00:00</th>\n",
       "      <td>25801.0</td>\n",
       "      <td>25450.0</td>\n",
       "    </tr>\n",
       "    <tr>\n",
       "      <th>2018-12-31 22:00:00+00:00</th>\n",
       "      <td>24455.0</td>\n",
       "      <td>24424.0</td>\n",
       "    </tr>\n",
       "  </tbody>\n",
       "</table>\n",
       "<p>35064 rows × 2 columns</p>\n",
       "</div>"
      ],
      "text/plain": [
       "                           total load actual  total load forecast\n",
       "time                                                             \n",
       "2014-12-31 23:00:00+00:00            25385.0              26118.0\n",
       "2015-01-01 00:00:00+00:00            24382.0              24934.0\n",
       "2015-01-01 01:00:00+00:00            22734.0              23515.0\n",
       "2015-01-01 02:00:00+00:00            21286.0              22642.0\n",
       "2015-01-01 03:00:00+00:00            20264.0              21785.0\n",
       "...                                      ...                  ...\n",
       "2018-12-31 18:00:00+00:00            30653.0              30619.0\n",
       "2018-12-31 19:00:00+00:00            29735.0              29932.0\n",
       "2018-12-31 20:00:00+00:00            28071.0              27903.0\n",
       "2018-12-31 21:00:00+00:00            25801.0              25450.0\n",
       "2018-12-31 22:00:00+00:00            24455.0              24424.0\n",
       "\n",
       "[35064 rows x 2 columns]"
      ]
     },
     "execution_count": 57,
     "metadata": {},
     "output_type": "execute_result"
    }
   ],
   "source": [
    "df_final[['total load actual','total load forecast']]"
   ]
  },
  {
   "cell_type": "code",
   "execution_count": 30,
   "id": "d4afefa6",
   "metadata": {},
   "outputs": [
    {
     "name": "stdout",
     "output_type": "stream",
     "text": [
      "There are 0 missing values or NaNs in df_final.\n"
     ]
    }
   ],
   "source": [
    "print('There are {} missing values or NaNs in df_final.'\n",
    "      .format(df_final.isnull().values.sum()))"
   ]
  }
 ],
 "metadata": {
  "kernelspec": {
   "display_name": "lab_ML",
   "language": "python",
   "name": "lab_ml"
  },
  "language_info": {
   "codemirror_mode": {
    "name": "ipython",
    "version": 3
   },
   "file_extension": ".py",
   "mimetype": "text/x-python",
   "name": "python",
   "nbconvert_exporter": "python",
   "pygments_lexer": "ipython3",
   "version": "3.10.4"
  }
 },
 "nbformat": 4,
 "nbformat_minor": 5
}
