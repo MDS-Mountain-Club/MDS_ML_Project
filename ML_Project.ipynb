{
 "cells": [
  {
   "cell_type": "code",
   "execution_count": 2,
   "id": "29572624",
   "metadata": {},
   "outputs": [],
   "source": [
    "import warnings\n",
    "\n",
    "# Ignore all warnings\n",
    "warnings.filterwarnings(\"ignore\")"
   ]
  },
  {
   "cell_type": "code",
   "execution_count": 4,
   "id": "1423649b",
   "metadata": {},
   "outputs": [],
   "source": [
    "import os\n",
    "import pandas as pd\n",
    "import numpy as np\n",
    "import matplotlib.pyplot as plt\n",
    "import seaborn as sns\n",
    "import statsmodels.api as sm\n",
    "import tensorflow as tf\n",
    "import os\n",
    "from tensorflow.keras.layers import Dense, LSTM, Conv1D, MaxPooling1D, TimeDistributed, Flatten, Dropout, RepeatVector\n",
    "from statsmodels.graphics.tsaplots import plot_acf, plot_pacf\n",
    "from statsmodels.tsa.stattools import adfuller, kpss, ccf\n",
    "from sklearn.metrics import mean_squared_error, r2_score\n",
    "from sklearn.preprocessing import LabelEncoder, StandardScaler, MinMaxScaler\n",
    "from sklearn.decomposition import PCA\n",
    "from sklearn.model_selection import train_test_split\n",
    "from math import sqrt"
   ]
  },
  {
   "cell_type": "code",
   "execution_count": 5,
   "id": "597d531b",
   "metadata": {},
   "outputs": [],
   "source": [
    "# Importing the energy data \n",
    "df_energy = pd.read_csv('Data\\energy_dataset.csv',parse_dates=['time'])"
   ]
  },
  {
   "cell_type": "code",
   "execution_count": 6,
   "id": "78705e30",
   "metadata": {
    "scrolled": true
   },
   "outputs": [
    {
     "data": {
      "text/plain": [
       "time                                               0\n",
       "generation biomass                                19\n",
       "generation fossil brown coal/lignite              18\n",
       "generation fossil coal-derived gas                18\n",
       "generation fossil gas                             18\n",
       "generation fossil hard coal                       18\n",
       "generation fossil oil                             19\n",
       "generation fossil oil shale                       18\n",
       "generation fossil peat                            18\n",
       "generation geothermal                             18\n",
       "generation hydro pumped storage aggregated     35064\n",
       "generation hydro pumped storage consumption       19\n",
       "generation hydro run-of-river and poundage        19\n",
       "generation hydro water reservoir                  18\n",
       "generation marine                                 19\n",
       "generation nuclear                                17\n",
       "generation other                                  18\n",
       "generation other renewable                        18\n",
       "generation solar                                  18\n",
       "generation waste                                  19\n",
       "generation wind offshore                          18\n",
       "generation wind onshore                           18\n",
       "forecast solar day ahead                           0\n",
       "forecast wind offshore eday ahead              35064\n",
       "forecast wind onshore day ahead                    0\n",
       "total load forecast                                0\n",
       "total load actual                                 36\n",
       "price day ahead                                    0\n",
       "price actual                                       0\n",
       "dtype: int64"
      ]
     },
     "execution_count": 6,
     "metadata": {},
     "output_type": "execute_result"
    }
   ],
   "source": [
    "df_energy.isna().sum()"
   ]
  },
  {
   "cell_type": "code",
   "execution_count": 7,
   "id": "c5593166",
   "metadata": {},
   "outputs": [
    {
     "data": {
      "text/plain": [
       "time                                            0\n",
       "generation biomass                             19\n",
       "generation fossil brown coal/lignite           18\n",
       "generation fossil coal-derived gas             18\n",
       "generation fossil gas                          18\n",
       "generation fossil hard coal                    18\n",
       "generation fossil oil                          19\n",
       "generation fossil oil shale                    18\n",
       "generation fossil peat                         18\n",
       "generation geothermal                          18\n",
       "generation hydro pumped storage consumption    19\n",
       "generation hydro run-of-river and poundage     19\n",
       "generation hydro water reservoir               18\n",
       "generation marine                              19\n",
       "generation nuclear                             17\n",
       "generation other                               18\n",
       "generation other renewable                     18\n",
       "generation solar                               18\n",
       "generation waste                               19\n",
       "generation wind offshore                       18\n",
       "generation wind onshore                        18\n",
       "forecast solar day ahead                        0\n",
       "forecast wind onshore day ahead                 0\n",
       "total load forecast                             0\n",
       "total load actual                              36\n",
       "price day ahead                                 0\n",
       "price actual                                    0\n",
       "dtype: int64"
      ]
     },
     "execution_count": 7,
     "metadata": {},
     "output_type": "execute_result"
    }
   ],
   "source": [
    "# We drop the column which are full of NA values.\n",
    "df_energy = df_energy.drop(['generation hydro pumped storage aggregated','forecast wind offshore eday ahead'],axis=1)\n",
    "df_energy.isna().sum()"
   ]
  },
  {
   "cell_type": "code",
   "execution_count": 9,
   "id": "67c0a95e",
   "metadata": {},
   "outputs": [],
   "source": [
    "# For these small amounts of rows which contain NA values, we should interpolate\n",
    "df_energy = df_energy.fillna(method='ffill')"
   ]
  },
  {
   "cell_type": "code",
   "execution_count": 10,
   "id": "e730ffb3",
   "metadata": {},
   "outputs": [
    {
     "data": {
      "text/plain": [
       "time                                           0\n",
       "generation biomass                             0\n",
       "generation fossil brown coal/lignite           0\n",
       "generation fossil coal-derived gas             0\n",
       "generation fossil gas                          0\n",
       "generation fossil hard coal                    0\n",
       "generation fossil oil                          0\n",
       "generation fossil oil shale                    0\n",
       "generation fossil peat                         0\n",
       "generation geothermal                          0\n",
       "generation hydro pumped storage consumption    0\n",
       "generation hydro run-of-river and poundage     0\n",
       "generation hydro water reservoir               0\n",
       "generation marine                              0\n",
       "generation nuclear                             0\n",
       "generation other                               0\n",
       "generation other renewable                     0\n",
       "generation solar                               0\n",
       "generation waste                               0\n",
       "generation wind offshore                       0\n",
       "generation wind onshore                        0\n",
       "forecast solar day ahead                       0\n",
       "forecast wind onshore day ahead                0\n",
       "total load forecast                            0\n",
       "total load actual                              0\n",
       "price day ahead                                0\n",
       "price actual                                   0\n",
       "dtype: int64"
      ]
     },
     "execution_count": 10,
     "metadata": {},
     "output_type": "execute_result"
    }
   ],
   "source": [
    "# Now there is no NA value \n",
    "df_energy.isna().sum()"
   ]
  },
  {
   "cell_type": "code",
   "execution_count": 11,
   "id": "a27fa97b",
   "metadata": {},
   "outputs": [],
   "source": [
    "# And we will make our row intex the time information\n",
    "df_energy['time'] = pd.to_datetime(df_energy['time'],utc=True, infer_datetime_format=True)\n",
    "df_energy = df_energy.set_index('time')"
   ]
  },
  {
   "cell_type": "code",
   "execution_count": 12,
   "id": "5ea97c15",
   "metadata": {},
   "outputs": [
    {
     "data": {
      "text/html": [
       "<div>\n",
       "<style scoped>\n",
       "    .dataframe tbody tr th:only-of-type {\n",
       "        vertical-align: middle;\n",
       "    }\n",
       "\n",
       "    .dataframe tbody tr th {\n",
       "        vertical-align: top;\n",
       "    }\n",
       "\n",
       "    .dataframe thead th {\n",
       "        text-align: right;\n",
       "    }\n",
       "</style>\n",
       "<table border=\"1\" class=\"dataframe\">\n",
       "  <thead>\n",
       "    <tr style=\"text-align: right;\">\n",
       "      <th></th>\n",
       "      <th>generation biomass</th>\n",
       "      <th>generation fossil brown coal/lignite</th>\n",
       "      <th>generation fossil coal-derived gas</th>\n",
       "      <th>generation fossil gas</th>\n",
       "      <th>generation fossil hard coal</th>\n",
       "      <th>generation fossil oil</th>\n",
       "      <th>generation fossil oil shale</th>\n",
       "      <th>generation fossil peat</th>\n",
       "      <th>generation geothermal</th>\n",
       "      <th>generation hydro pumped storage consumption</th>\n",
       "      <th>...</th>\n",
       "      <th>generation solar</th>\n",
       "      <th>generation waste</th>\n",
       "      <th>generation wind offshore</th>\n",
       "      <th>generation wind onshore</th>\n",
       "      <th>forecast solar day ahead</th>\n",
       "      <th>forecast wind onshore day ahead</th>\n",
       "      <th>total load forecast</th>\n",
       "      <th>total load actual</th>\n",
       "      <th>price day ahead</th>\n",
       "      <th>price actual</th>\n",
       "    </tr>\n",
       "    <tr>\n",
       "      <th>time</th>\n",
       "      <th></th>\n",
       "      <th></th>\n",
       "      <th></th>\n",
       "      <th></th>\n",
       "      <th></th>\n",
       "      <th></th>\n",
       "      <th></th>\n",
       "      <th></th>\n",
       "      <th></th>\n",
       "      <th></th>\n",
       "      <th></th>\n",
       "      <th></th>\n",
       "      <th></th>\n",
       "      <th></th>\n",
       "      <th></th>\n",
       "      <th></th>\n",
       "      <th></th>\n",
       "      <th></th>\n",
       "      <th></th>\n",
       "      <th></th>\n",
       "      <th></th>\n",
       "    </tr>\n",
       "  </thead>\n",
       "  <tbody>\n",
       "    <tr>\n",
       "      <th>2014-12-31 23:00:00+00:00</th>\n",
       "      <td>447.0</td>\n",
       "      <td>329.0</td>\n",
       "      <td>0.0</td>\n",
       "      <td>4844.0</td>\n",
       "      <td>4821.0</td>\n",
       "      <td>162.0</td>\n",
       "      <td>0.0</td>\n",
       "      <td>0.0</td>\n",
       "      <td>0.0</td>\n",
       "      <td>863.0</td>\n",
       "      <td>...</td>\n",
       "      <td>49.0</td>\n",
       "      <td>196.0</td>\n",
       "      <td>0.0</td>\n",
       "      <td>6378.0</td>\n",
       "      <td>17.0</td>\n",
       "      <td>6436.0</td>\n",
       "      <td>26118.0</td>\n",
       "      <td>25385.0</td>\n",
       "      <td>50.10</td>\n",
       "      <td>65.41</td>\n",
       "    </tr>\n",
       "    <tr>\n",
       "      <th>2015-01-01 00:00:00+00:00</th>\n",
       "      <td>449.0</td>\n",
       "      <td>328.0</td>\n",
       "      <td>0.0</td>\n",
       "      <td>5196.0</td>\n",
       "      <td>4755.0</td>\n",
       "      <td>158.0</td>\n",
       "      <td>0.0</td>\n",
       "      <td>0.0</td>\n",
       "      <td>0.0</td>\n",
       "      <td>920.0</td>\n",
       "      <td>...</td>\n",
       "      <td>50.0</td>\n",
       "      <td>195.0</td>\n",
       "      <td>0.0</td>\n",
       "      <td>5890.0</td>\n",
       "      <td>16.0</td>\n",
       "      <td>5856.0</td>\n",
       "      <td>24934.0</td>\n",
       "      <td>24382.0</td>\n",
       "      <td>48.10</td>\n",
       "      <td>64.92</td>\n",
       "    </tr>\n",
       "    <tr>\n",
       "      <th>2015-01-01 01:00:00+00:00</th>\n",
       "      <td>448.0</td>\n",
       "      <td>323.0</td>\n",
       "      <td>0.0</td>\n",
       "      <td>4857.0</td>\n",
       "      <td>4581.0</td>\n",
       "      <td>157.0</td>\n",
       "      <td>0.0</td>\n",
       "      <td>0.0</td>\n",
       "      <td>0.0</td>\n",
       "      <td>1164.0</td>\n",
       "      <td>...</td>\n",
       "      <td>50.0</td>\n",
       "      <td>196.0</td>\n",
       "      <td>0.0</td>\n",
       "      <td>5461.0</td>\n",
       "      <td>8.0</td>\n",
       "      <td>5454.0</td>\n",
       "      <td>23515.0</td>\n",
       "      <td>22734.0</td>\n",
       "      <td>47.33</td>\n",
       "      <td>64.48</td>\n",
       "    </tr>\n",
       "    <tr>\n",
       "      <th>2015-01-01 02:00:00+00:00</th>\n",
       "      <td>438.0</td>\n",
       "      <td>254.0</td>\n",
       "      <td>0.0</td>\n",
       "      <td>4314.0</td>\n",
       "      <td>4131.0</td>\n",
       "      <td>160.0</td>\n",
       "      <td>0.0</td>\n",
       "      <td>0.0</td>\n",
       "      <td>0.0</td>\n",
       "      <td>1503.0</td>\n",
       "      <td>...</td>\n",
       "      <td>50.0</td>\n",
       "      <td>191.0</td>\n",
       "      <td>0.0</td>\n",
       "      <td>5238.0</td>\n",
       "      <td>2.0</td>\n",
       "      <td>5151.0</td>\n",
       "      <td>22642.0</td>\n",
       "      <td>21286.0</td>\n",
       "      <td>42.27</td>\n",
       "      <td>59.32</td>\n",
       "    </tr>\n",
       "    <tr>\n",
       "      <th>2015-01-01 03:00:00+00:00</th>\n",
       "      <td>428.0</td>\n",
       "      <td>187.0</td>\n",
       "      <td>0.0</td>\n",
       "      <td>4130.0</td>\n",
       "      <td>3840.0</td>\n",
       "      <td>156.0</td>\n",
       "      <td>0.0</td>\n",
       "      <td>0.0</td>\n",
       "      <td>0.0</td>\n",
       "      <td>1826.0</td>\n",
       "      <td>...</td>\n",
       "      <td>42.0</td>\n",
       "      <td>189.0</td>\n",
       "      <td>0.0</td>\n",
       "      <td>4935.0</td>\n",
       "      <td>9.0</td>\n",
       "      <td>4861.0</td>\n",
       "      <td>21785.0</td>\n",
       "      <td>20264.0</td>\n",
       "      <td>38.41</td>\n",
       "      <td>56.04</td>\n",
       "    </tr>\n",
       "  </tbody>\n",
       "</table>\n",
       "<p>5 rows × 26 columns</p>\n",
       "</div>"
      ],
      "text/plain": [
       "                           generation biomass  \\\n",
       "time                                            \n",
       "2014-12-31 23:00:00+00:00               447.0   \n",
       "2015-01-01 00:00:00+00:00               449.0   \n",
       "2015-01-01 01:00:00+00:00               448.0   \n",
       "2015-01-01 02:00:00+00:00               438.0   \n",
       "2015-01-01 03:00:00+00:00               428.0   \n",
       "\n",
       "                           generation fossil brown coal/lignite  \\\n",
       "time                                                              \n",
       "2014-12-31 23:00:00+00:00                                 329.0   \n",
       "2015-01-01 00:00:00+00:00                                 328.0   \n",
       "2015-01-01 01:00:00+00:00                                 323.0   \n",
       "2015-01-01 02:00:00+00:00                                 254.0   \n",
       "2015-01-01 03:00:00+00:00                                 187.0   \n",
       "\n",
       "                           generation fossil coal-derived gas  \\\n",
       "time                                                            \n",
       "2014-12-31 23:00:00+00:00                                 0.0   \n",
       "2015-01-01 00:00:00+00:00                                 0.0   \n",
       "2015-01-01 01:00:00+00:00                                 0.0   \n",
       "2015-01-01 02:00:00+00:00                                 0.0   \n",
       "2015-01-01 03:00:00+00:00                                 0.0   \n",
       "\n",
       "                           generation fossil gas  generation fossil hard coal  \\\n",
       "time                                                                            \n",
       "2014-12-31 23:00:00+00:00                 4844.0                       4821.0   \n",
       "2015-01-01 00:00:00+00:00                 5196.0                       4755.0   \n",
       "2015-01-01 01:00:00+00:00                 4857.0                       4581.0   \n",
       "2015-01-01 02:00:00+00:00                 4314.0                       4131.0   \n",
       "2015-01-01 03:00:00+00:00                 4130.0                       3840.0   \n",
       "\n",
       "                           generation fossil oil  generation fossil oil shale  \\\n",
       "time                                                                            \n",
       "2014-12-31 23:00:00+00:00                  162.0                          0.0   \n",
       "2015-01-01 00:00:00+00:00                  158.0                          0.0   \n",
       "2015-01-01 01:00:00+00:00                  157.0                          0.0   \n",
       "2015-01-01 02:00:00+00:00                  160.0                          0.0   \n",
       "2015-01-01 03:00:00+00:00                  156.0                          0.0   \n",
       "\n",
       "                           generation fossil peat  generation geothermal  \\\n",
       "time                                                                       \n",
       "2014-12-31 23:00:00+00:00                     0.0                    0.0   \n",
       "2015-01-01 00:00:00+00:00                     0.0                    0.0   \n",
       "2015-01-01 01:00:00+00:00                     0.0                    0.0   \n",
       "2015-01-01 02:00:00+00:00                     0.0                    0.0   \n",
       "2015-01-01 03:00:00+00:00                     0.0                    0.0   \n",
       "\n",
       "                           generation hydro pumped storage consumption  ...  \\\n",
       "time                                                                    ...   \n",
       "2014-12-31 23:00:00+00:00                                        863.0  ...   \n",
       "2015-01-01 00:00:00+00:00                                        920.0  ...   \n",
       "2015-01-01 01:00:00+00:00                                       1164.0  ...   \n",
       "2015-01-01 02:00:00+00:00                                       1503.0  ...   \n",
       "2015-01-01 03:00:00+00:00                                       1826.0  ...   \n",
       "\n",
       "                           generation solar  generation waste  \\\n",
       "time                                                            \n",
       "2014-12-31 23:00:00+00:00              49.0             196.0   \n",
       "2015-01-01 00:00:00+00:00              50.0             195.0   \n",
       "2015-01-01 01:00:00+00:00              50.0             196.0   \n",
       "2015-01-01 02:00:00+00:00              50.0             191.0   \n",
       "2015-01-01 03:00:00+00:00              42.0             189.0   \n",
       "\n",
       "                           generation wind offshore  generation wind onshore  \\\n",
       "time                                                                           \n",
       "2014-12-31 23:00:00+00:00                       0.0                   6378.0   \n",
       "2015-01-01 00:00:00+00:00                       0.0                   5890.0   \n",
       "2015-01-01 01:00:00+00:00                       0.0                   5461.0   \n",
       "2015-01-01 02:00:00+00:00                       0.0                   5238.0   \n",
       "2015-01-01 03:00:00+00:00                       0.0                   4935.0   \n",
       "\n",
       "                           forecast solar day ahead  \\\n",
       "time                                                  \n",
       "2014-12-31 23:00:00+00:00                      17.0   \n",
       "2015-01-01 00:00:00+00:00                      16.0   \n",
       "2015-01-01 01:00:00+00:00                       8.0   \n",
       "2015-01-01 02:00:00+00:00                       2.0   \n",
       "2015-01-01 03:00:00+00:00                       9.0   \n",
       "\n",
       "                           forecast wind onshore day ahead  \\\n",
       "time                                                         \n",
       "2014-12-31 23:00:00+00:00                           6436.0   \n",
       "2015-01-01 00:00:00+00:00                           5856.0   \n",
       "2015-01-01 01:00:00+00:00                           5454.0   \n",
       "2015-01-01 02:00:00+00:00                           5151.0   \n",
       "2015-01-01 03:00:00+00:00                           4861.0   \n",
       "\n",
       "                           total load forecast  total load actual  \\\n",
       "time                                                                \n",
       "2014-12-31 23:00:00+00:00              26118.0            25385.0   \n",
       "2015-01-01 00:00:00+00:00              24934.0            24382.0   \n",
       "2015-01-01 01:00:00+00:00              23515.0            22734.0   \n",
       "2015-01-01 02:00:00+00:00              22642.0            21286.0   \n",
       "2015-01-01 03:00:00+00:00              21785.0            20264.0   \n",
       "\n",
       "                           price day ahead  price actual  \n",
       "time                                                      \n",
       "2014-12-31 23:00:00+00:00            50.10         65.41  \n",
       "2015-01-01 00:00:00+00:00            48.10         64.92  \n",
       "2015-01-01 01:00:00+00:00            47.33         64.48  \n",
       "2015-01-01 02:00:00+00:00            42.27         59.32  \n",
       "2015-01-01 03:00:00+00:00            38.41         56.04  \n",
       "\n",
       "[5 rows x 26 columns]"
      ]
     },
     "execution_count": 12,
     "metadata": {},
     "output_type": "execute_result"
    }
   ],
   "source": [
    "df_energy.head()"
   ]
  },
  {
   "cell_type": "markdown",
   "id": "a484cf6e",
   "metadata": {},
   "source": [
    "## Weather"
   ]
  },
  {
   "cell_type": "code",
   "execution_count": 13,
   "id": "c27f2a65",
   "metadata": {},
   "outputs": [],
   "source": [
    "# Importing the weather data \n",
    "df_weather = pd.read_csv('Data\\weather_features.csv', parse_dates=['dt_iso'])"
   ]
  },
  {
   "cell_type": "code",
   "execution_count": 14,
   "id": "2d7c0f13",
   "metadata": {},
   "outputs": [
    {
     "data": {
      "text/plain": [
       "dt_iso                 0\n",
       "city_name              0\n",
       "temp                   0\n",
       "temp_min               0\n",
       "temp_max               0\n",
       "pressure               0\n",
       "humidity               0\n",
       "wind_speed             0\n",
       "wind_deg               0\n",
       "rain_1h                0\n",
       "rain_3h                0\n",
       "snow_3h                0\n",
       "clouds_all             0\n",
       "weather_id             0\n",
       "weather_main           0\n",
       "weather_description    0\n",
       "weather_icon           0\n",
       "dtype: int64"
      ]
     },
     "execution_count": 14,
     "metadata": {},
     "output_type": "execute_result"
    }
   ],
   "source": [
    "# Thanksfully, there is no NA value.\n",
    "df_weather.isna().sum(axis=0)"
   ]
  },
  {
   "cell_type": "code",
   "execution_count": 45,
   "id": "ef4ffcd1",
   "metadata": {},
   "outputs": [],
   "source": [
    "# So we are going to change the int64 to float64\n",
    "def df_convert_dtypes(df, convert_from, convert_to):\n",
    "    cols = df.select_dtypes(include=[convert_from]).columns\n",
    "    for col in cols:\n",
    "        df[col] = df[col].values.astype(convert_to)\n",
    "    return df"
   ]
  },
  {
   "cell_type": "code",
   "execution_count": 46,
   "id": "cd3eeba4",
   "metadata": {},
   "outputs": [],
   "source": [
    "# For being in line with df_energy\n",
    "df_weather = df_convert_dtypes(df_weather, np.int64, np.float64)"
   ]
  },
  {
   "cell_type": "code",
   "execution_count": 19,
   "id": "c0c47b56",
   "metadata": {},
   "outputs": [],
   "source": [
    "df_weather['time'] = pd.to_datetime(df_weather['dt_iso'], utc=True, infer_datetime_format=True)\n",
    "df_weather = df_weather.drop(['dt_iso'], axis=1)\n",
    "df_weather = df_weather.set_index('time')"
   ]
  },
  {
   "cell_type": "code",
   "execution_count": 21,
   "id": "4efcc103",
   "metadata": {},
   "outputs": [
    {
     "name": "stdout",
     "output_type": "stream",
     "text": [
      "There are 35145 observations in df_weather about city: Valencia.\n",
      "There are 36267 observations in df_weather about city: Madrid.\n",
      "There are 35951 observations in df_weather about city: Bilbao.\n",
      "There are 35476 observations in df_weather about city:  Barcelona.\n",
      "There are 35557 observations in df_weather about city: Seville.\n",
      "There are 35064 observations in df_energy.\n"
     ]
    }
   ],
   "source": [
    "# Now let's see how many the number of rows for each city. \n",
    "#The each number has to be same with the number of energy dataset row\n",
    "cities = df_weather['city_name'].unique()\n",
    "grouped_weather = df_weather.groupby('city_name')\n",
    "for city in cities:\n",
    "    print('There are {} observations in df_weather'\n",
    "          .format(grouped_weather.get_group('{}'.format(city)).shape[0]), \n",
    "          'about city: {}.'.format(city))\n",
    "print('There are {} observations in df_energy.'.format(df_energy.shape[0]))\n",
    "# Unfortunately, quite different. "
   ]
  },
  {
   "cell_type": "code",
   "execution_count": 22,
   "id": "7f82bde4",
   "metadata": {},
   "outputs": [],
   "source": [
    "# So we can guess that there are duplicate rows. We will erase those rows\n",
    "df_weather = df_weather.reset_index().drop_duplicates(subset=['time', 'city_name'],\n",
    "keep='first').set_index('time')"
   ]
  },
  {
   "cell_type": "code",
   "execution_count": 24,
   "id": "74a0c30d",
   "metadata": {},
   "outputs": [
    {
     "name": "stdout",
     "output_type": "stream",
     "text": [
      "There are 35064 observations in df_weather about city: Valencia.\n",
      "There are 35064 observations in df_weather about city: Madrid.\n",
      "There are 35064 observations in df_weather about city: Bilbao.\n",
      "There are 35064 observations in df_weather about city:  Barcelona.\n",
      "There are 35064 observations in df_weather about city: Seville.\n",
      "There are 35064 observations in df_energy.\n"
     ]
    }
   ],
   "source": [
    "for city in cities:\n",
    "    print('There are {} observations in df_weather'\n",
    "          .format(grouped_weather.get_group('{}'.format(city)).shape[0]), \n",
    "          'about city: {}.'.format(city))\n",
    "print('There are {} observations in df_energy.'.format(df_energy.shape[0]))  \n",
    "# Now same."
   ]
  },
  {
   "cell_type": "code",
   "execution_count": 26,
   "id": "f0b45374",
   "metadata": {},
   "outputs": [
    {
     "data": {
      "text/plain": [
       "(35064, 101)"
      ]
     },
     "execution_count": 26,
     "metadata": {},
     "output_type": "execute_result"
    }
   ],
   "source": [
    "# Below is the process for mergning energy dataset with weather information of each city\n",
    "df_1, df_2, df_3, df_4, df_5 = [x for _, x in df_weather.groupby('city_name')]\n",
    "dfs = [df_1, df_2, df_3, df_4, df_5]\n",
    "\n",
    "df_final = df_energy\n",
    "\n",
    "for df in dfs:\n",
    "    city = df['city_name'].unique()\n",
    "    city_str = str(city).replace(\"'\", \"\").replace('[', '').replace(']', '').replace(' ', '')\n",
    "    df = df.add_suffix('_{}'.format(city_str))\n",
    "    df_final = df_final.merge(df, on=['time'], how='outer')\n",
    "    df_final = df_final.drop('city_name_{}'.format(city_str), axis=1)\n",
    "    \n",
    "df_final.shape\n",
    "# 35064 rows and 101 features."
   ]
  },
  {
   "cell_type": "code",
   "execution_count": 27,
   "id": "d4afefa6",
   "metadata": {},
   "outputs": [
    {
     "name": "stdout",
     "output_type": "stream",
     "text": [
      "There are 0 missing values or NaNs in df_final.\n"
     ]
    }
   ],
   "source": [
    "# There is no NA value \n",
    "print('There are {} missing values or NaNs in df_final.'\n",
    "      .format(df_final.isnull().values.sum()))"
   ]
  }
 ],
 "metadata": {
  "kernelspec": {
   "display_name": "lab_ML",
   "language": "python",
   "name": "lab_ml"
  },
  "language_info": {
   "codemirror_mode": {
    "name": "ipython",
    "version": 3
   },
   "file_extension": ".py",
   "mimetype": "text/x-python",
   "name": "python",
   "nbconvert_exporter": "python",
   "pygments_lexer": "ipython3",
   "version": "3.10.4"
  }
 },
 "nbformat": 4,
 "nbformat_minor": 5
}
